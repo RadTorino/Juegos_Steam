{
 "cells": [
  {
   "cell_type": "code",
   "execution_count": 21,
   "metadata": {},
   "outputs": [],
   "source": [
    "import pandas as pd \n",
    "from sklearn.metrics.pairwise import cosine_similarity\n",
    "from sklearn.preprocessing import StandardScaler"
   ]
  },
  {
   "cell_type": "code",
   "execution_count": 68,
   "metadata": {},
   "outputs": [],
   "source": [
    "data = pd.read_csv('archivos_csv/data_para_ML.csv')"
   ]
  },
  {
   "cell_type": "code",
   "execution_count": 54,
   "metadata": {},
   "outputs": [],
   "source": [
    "# uso StandardScaler para normalizar los valores. \n",
    "# Los valores dummies (de los generos) no se normalizan ya que son booleanos, su interpretación no es numérica\n",
    "scaler = StandardScaler()\n",
    "features = data[['horas_jugadas', 'count', 'recommend', 'sentiment_analysis']]\n",
    "scaled_features = pd.DataFrame(scaler.fit_transform(features))\n"
   ]
  },
  {
   "cell_type": "code",
   "execution_count": 55,
   "metadata": {},
   "outputs": [],
   "source": [
    "tags =data[['Strategy',\t'Action',\t'Indie', 'Casual', 'Simulation',\t'RPG',\t'Adventure', 'Singleplayer']]"
   ]
  },
  {
   "cell_type": "code",
   "execution_count": 56,
   "metadata": {},
   "outputs": [],
   "source": [
    "final_features= pd.concat([scaled_features, tags], axis=1) #combino todas las dimensiones que voy a tener en cuenta"
   ]
  },
  {
   "cell_type": "code",
   "execution_count": 58,
   "metadata": {},
   "outputs": [
    {
     "data": {
      "text/plain": [
       "Index([    10,     20,     30,     40,     50,     60,     70,     80,    130,\n",
       "          220,\n",
       "       ...\n",
       "       417860, 417990, 418070, 418300, 418340, 418910, 421630, 423120, 423880,\n",
       "       428880],\n",
       "      dtype='int64', name='id', length=2288)"
      ]
     },
     "execution_count": 58,
     "metadata": {},
     "output_type": "execute_result"
    }
   ],
   "source": [
    "data.index"
   ]
  },
  {
   "cell_type": "code",
   "execution_count": 97,
   "metadata": {},
   "outputs": [
    {
     "name": "stdout",
     "output_type": "stream",
     "text": [
      "El sistema no encuentra recomendación para ese juego\n"
     ]
    }
   ],
   "source": [
    "# Cálculo de la similitud de coseno\n",
    "cosine_sim = cosine_similarity(scaled_features, scaled_features)\n",
    "\n",
    "# Función para obtener recomendaciones\n",
    "def obtener_recomendaciones(id, cosine_sim=cosine_sim):\n",
    "    #primero checkeamos que el id del juego esté dentro del sistema de recomendación. \n",
    "    if id not in data.id.tolist(): \n",
    "        return('El sistema no encuentra recomendación para ese juego')\n",
    "\n",
    "\n",
    "    indice = data[data.id == id].index[0]  #con el id del juego obtengo su índice\n",
    "    sim_scores = list(enumerate(cosine_sim[indice])) #obtengo la lista de los elementos por similaridad. \n",
    "    sim_scores = sorted(sim_scores, key=lambda x: x[1], reverse=True) #la ordeno de forma descendente, de mayor similitud a menor.\n",
    "    indices = [i[0] for i in sim_scores[1:5]] #empieza en el segundo elemento porque el primero es el mismo elemento que pasamos.\n",
    "    return [data.loc[i,'app_name'] for i in indices] #con los indices obtengo los nombres de los juegos recomendados\n",
    "\n",
    "\n",
    "print(obtener_recomendaciones(55))"
   ]
  },
  {
   "cell_type": "code",
   "execution_count": 96,
   "metadata": {},
   "outputs": [
    {
     "data": {
      "text/plain": [
       "False"
      ]
     },
     "execution_count": 96,
     "metadata": {},
     "output_type": "execute_result"
    }
   ],
   "source": [
    "1 in data.id.tolist()"
   ]
  },
  {
   "cell_type": "code",
   "execution_count": 87,
   "metadata": {},
   "outputs": [
    {
     "data": {
      "text/plain": [
       "4"
      ]
     },
     "execution_count": 87,
     "metadata": {},
     "output_type": "execute_result"
    }
   ],
   "source": [
    "data[data.id==50].index[0]"
   ]
  }
 ],
 "metadata": {
  "kernelspec": {
   "display_name": "Python 3",
   "language": "python",
   "name": "python3"
  },
  "language_info": {
   "codemirror_mode": {
    "name": "ipython",
    "version": 3
   },
   "file_extension": ".py",
   "mimetype": "text/x-python",
   "name": "python",
   "nbconvert_exporter": "python",
   "pygments_lexer": "ipython3",
   "version": "3.12.0"
  }
 },
 "nbformat": 4,
 "nbformat_minor": 2
}
