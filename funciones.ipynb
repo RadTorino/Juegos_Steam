{
 "cells": [
  {
   "cell_type": "code",
   "execution_count": 1,
   "metadata": {},
   "outputs": [],
   "source": [
    "import pandas as pd"
   ]
  },
  {
   "cell_type": "code",
   "execution_count": 2,
   "metadata": {},
   "outputs": [],
   "source": [
    "juegos = pd.read_csv('archivos_csv/games_final.csv')\n",
    "items = pd.read_csv('archivos_csv/items_final_pulido.csv')\n",
    "reviews = pd.read_csv('archivos_csv/reviews_sentiment_analysis.csv')"
   ]
  },
  {
   "cell_type": "code",
   "execution_count": 3,
   "metadata": {},
   "outputs": [
    {
     "data": {
      "text/html": [
       "<div>\n",
       "<style scoped>\n",
       "    .dataframe tbody tr th:only-of-type {\n",
       "        vertical-align: middle;\n",
       "    }\n",
       "\n",
       "    .dataframe tbody tr th {\n",
       "        vertical-align: top;\n",
       "    }\n",
       "\n",
       "    .dataframe thead th {\n",
       "        text-align: right;\n",
       "    }\n",
       "</style>\n",
       "<table border=\"1\" class=\"dataframe\">\n",
       "  <thead>\n",
       "    <tr style=\"text-align: right;\">\n",
       "      <th></th>\n",
       "      <th>app_name</th>\n",
       "      <th>release_date</th>\n",
       "      <th>tags</th>\n",
       "      <th>id</th>\n",
       "    </tr>\n",
       "  </thead>\n",
       "  <tbody>\n",
       "    <tr>\n",
       "      <th>0</th>\n",
       "      <td>Lost Summoner Kitty</td>\n",
       "      <td>2018.0</td>\n",
       "      <td>['Strategy', 'Action', 'Indie', 'Casual', 'Sim...</td>\n",
       "      <td>761140.0</td>\n",
       "    </tr>\n",
       "    <tr>\n",
       "      <th>1</th>\n",
       "      <td>Ironbound</td>\n",
       "      <td>2018.0</td>\n",
       "      <td>['Free to Play', 'Strategy', 'Indie', 'RPG', '...</td>\n",
       "      <td>643980.0</td>\n",
       "    </tr>\n",
       "    <tr>\n",
       "      <th>2</th>\n",
       "      <td>Real Pool 3D - Poolians</td>\n",
       "      <td>2017.0</td>\n",
       "      <td>['Free to Play', 'Simulation', 'Sports', 'Casu...</td>\n",
       "      <td>670290.0</td>\n",
       "    </tr>\n",
       "    <tr>\n",
       "      <th>3</th>\n",
       "      <td>弹炸人2222</td>\n",
       "      <td>2017.0</td>\n",
       "      <td>['Action', 'Adventure', 'Casual']</td>\n",
       "      <td>767400.0</td>\n",
       "    </tr>\n",
       "    <tr>\n",
       "      <th>4</th>\n",
       "      <td>Log Challenge</td>\n",
       "      <td>NaN</td>\n",
       "      <td>['Action', 'Indie', 'Casual', 'Sports']</td>\n",
       "      <td>773570.0</td>\n",
       "    </tr>\n",
       "  </tbody>\n",
       "</table>\n",
       "</div>"
      ],
      "text/plain": [
       "                  app_name  release_date  \\\n",
       "0      Lost Summoner Kitty        2018.0   \n",
       "1                Ironbound        2018.0   \n",
       "2  Real Pool 3D - Poolians        2017.0   \n",
       "3                  弹炸人2222        2017.0   \n",
       "4            Log Challenge           NaN   \n",
       "\n",
       "                                                tags        id  \n",
       "0  ['Strategy', 'Action', 'Indie', 'Casual', 'Sim...  761140.0  \n",
       "1  ['Free to Play', 'Strategy', 'Indie', 'RPG', '...  643980.0  \n",
       "2  ['Free to Play', 'Simulation', 'Sports', 'Casu...  670290.0  \n",
       "3                  ['Action', 'Adventure', 'Casual']  767400.0  \n",
       "4            ['Action', 'Indie', 'Casual', 'Sports']  773570.0  "
      ]
     },
     "execution_count": 3,
     "metadata": {},
     "output_type": "execute_result"
    }
   ],
   "source": [
    "juegos.head()"
   ]
  },
  {
   "cell_type": "code",
   "execution_count": 4,
   "metadata": {},
   "outputs": [
    {
     "data": {
      "text/html": [
       "<div>\n",
       "<style scoped>\n",
       "    .dataframe tbody tr th:only-of-type {\n",
       "        vertical-align: middle;\n",
       "    }\n",
       "\n",
       "    .dataframe tbody tr th {\n",
       "        vertical-align: top;\n",
       "    }\n",
       "\n",
       "    .dataframe thead th {\n",
       "        text-align: right;\n",
       "    }\n",
       "</style>\n",
       "<table border=\"1\" class=\"dataframe\">\n",
       "  <thead>\n",
       "    <tr style=\"text-align: right;\">\n",
       "      <th></th>\n",
       "      <th>user_id</th>\n",
       "      <th>funny</th>\n",
       "      <th>posted</th>\n",
       "      <th>item_id</th>\n",
       "      <th>helpful</th>\n",
       "      <th>recommend</th>\n",
       "      <th>sentiment_analysis</th>\n",
       "    </tr>\n",
       "  </thead>\n",
       "  <tbody>\n",
       "    <tr>\n",
       "      <th>0</th>\n",
       "      <td>76561197970982479</td>\n",
       "      <td>NaN</td>\n",
       "      <td>2011</td>\n",
       "      <td>1250</td>\n",
       "      <td>No ratings yet</td>\n",
       "      <td>True</td>\n",
       "      <td>1</td>\n",
       "    </tr>\n",
       "    <tr>\n",
       "      <th>1</th>\n",
       "      <td>76561197970982479</td>\n",
       "      <td>NaN</td>\n",
       "      <td>2011</td>\n",
       "      <td>22200</td>\n",
       "      <td>No ratings yet</td>\n",
       "      <td>True</td>\n",
       "      <td>1</td>\n",
       "    </tr>\n",
       "    <tr>\n",
       "      <th>2</th>\n",
       "      <td>76561197970982479</td>\n",
       "      <td>NaN</td>\n",
       "      <td>2011</td>\n",
       "      <td>43110</td>\n",
       "      <td>No ratings yet</td>\n",
       "      <td>True</td>\n",
       "      <td>1</td>\n",
       "    </tr>\n",
       "    <tr>\n",
       "      <th>3</th>\n",
       "      <td>js41637</td>\n",
       "      <td>NaN</td>\n",
       "      <td>2014</td>\n",
       "      <td>251610</td>\n",
       "      <td>15 of 20 people (75%) found this review helpful</td>\n",
       "      <td>True</td>\n",
       "      <td>1</td>\n",
       "    </tr>\n",
       "    <tr>\n",
       "      <th>4</th>\n",
       "      <td>js41637</td>\n",
       "      <td>NaN</td>\n",
       "      <td>2013</td>\n",
       "      <td>227300</td>\n",
       "      <td>0 of 1 people (0%) found this review helpful</td>\n",
       "      <td>True</td>\n",
       "      <td>1</td>\n",
       "    </tr>\n",
       "  </tbody>\n",
       "</table>\n",
       "</div>"
      ],
      "text/plain": [
       "             user_id funny  posted  item_id  \\\n",
       "0  76561197970982479   NaN    2011     1250   \n",
       "1  76561197970982479   NaN    2011    22200   \n",
       "2  76561197970982479   NaN    2011    43110   \n",
       "3            js41637   NaN    2014   251610   \n",
       "4            js41637   NaN    2013   227300   \n",
       "\n",
       "                                           helpful  recommend  \\\n",
       "0                                   No ratings yet       True   \n",
       "1                                   No ratings yet       True   \n",
       "2                                   No ratings yet       True   \n",
       "3  15 of 20 people (75%) found this review helpful       True   \n",
       "4     0 of 1 people (0%) found this review helpful       True   \n",
       "\n",
       "   sentiment_analysis  \n",
       "0                   1  \n",
       "1                   1  \n",
       "2                   1  \n",
       "3                   1  \n",
       "4                   1  "
      ]
     },
     "execution_count": 4,
     "metadata": {},
     "output_type": "execute_result"
    }
   ],
   "source": [
    "reviews.head()"
   ]
  },
  {
   "cell_type": "code",
   "execution_count": 153,
   "metadata": {},
   "outputs": [
    {
     "data": {
      "text/html": [
       "<div>\n",
       "<style scoped>\n",
       "    .dataframe tbody tr th:only-of-type {\n",
       "        vertical-align: middle;\n",
       "    }\n",
       "\n",
       "    .dataframe tbody tr th {\n",
       "        vertical-align: top;\n",
       "    }\n",
       "\n",
       "    .dataframe thead th {\n",
       "        text-align: right;\n",
       "    }\n",
       "</style>\n",
       "<table border=\"1\" class=\"dataframe\">\n",
       "  <thead>\n",
       "    <tr style=\"text-align: right;\">\n",
       "      <th></th>\n",
       "      <th>user_id</th>\n",
       "      <th>item_id</th>\n",
       "      <th>item_name</th>\n",
       "      <th>playtime_forever</th>\n",
       "    </tr>\n",
       "  </thead>\n",
       "  <tbody>\n",
       "    <tr>\n",
       "      <th>0</th>\n",
       "      <td>phrostb</td>\n",
       "      <td>300</td>\n",
       "      <td>Day of Defeat: Source</td>\n",
       "      <td>78</td>\n",
       "    </tr>\n",
       "  </tbody>\n",
       "</table>\n",
       "</div>"
      ],
      "text/plain": [
       "   user_id  item_id              item_name  playtime_forever\n",
       "0  phrostb      300  Day of Defeat: Source                78"
      ]
     },
     "execution_count": 153,
     "metadata": {},
     "output_type": "execute_result"
    }
   ],
   "source": [
    "items.head(1)"
   ]
  },
  {
   "cell_type": "code",
   "execution_count": 9,
   "metadata": {},
   "outputs": [],
   "source": [
    "#armo df acorde a las necesidades de la función\n",
    "reviews_fecha = reviews.drop(columns=['funny', 'helpful', 'recommend', 'sentiment_analysis']) #elimino las columnas que no me sirven\n",
    "juegos_años = pd.merge(items, reviews_fecha, on= ['user_id', 'item_id'], how='inner') #concateno para tener items y fecha de review en un mismo df"
   ]
  },
  {
   "cell_type": "code",
   "execution_count": 10,
   "metadata": {},
   "outputs": [
    {
     "data": {
      "text/html": [
       "<div>\n",
       "<style scoped>\n",
       "    .dataframe tbody tr th:only-of-type {\n",
       "        vertical-align: middle;\n",
       "    }\n",
       "\n",
       "    .dataframe tbody tr th {\n",
       "        vertical-align: top;\n",
       "    }\n",
       "\n",
       "    .dataframe thead th {\n",
       "        text-align: right;\n",
       "    }\n",
       "</style>\n",
       "<table border=\"1\" class=\"dataframe\">\n",
       "  <thead>\n",
       "    <tr style=\"text-align: right;\">\n",
       "      <th></th>\n",
       "      <th>user_id</th>\n",
       "      <th>item_id</th>\n",
       "      <th>item_name</th>\n",
       "      <th>playtime_forever</th>\n",
       "      <th>posted</th>\n",
       "    </tr>\n",
       "  </thead>\n",
       "  <tbody>\n",
       "    <tr>\n",
       "      <th>0</th>\n",
       "      <td>phrostb</td>\n",
       "      <td>70</td>\n",
       "      <td>Half-Life</td>\n",
       "      <td>21.716667</td>\n",
       "      <td>2014</td>\n",
       "    </tr>\n",
       "    <tr>\n",
       "      <th>1</th>\n",
       "      <td>phrostb</td>\n",
       "      <td>620</td>\n",
       "      <td>Portal 2</td>\n",
       "      <td>22.833333</td>\n",
       "      <td>2014</td>\n",
       "    </tr>\n",
       "    <tr>\n",
       "      <th>2</th>\n",
       "      <td>phrostb</td>\n",
       "      <td>45760</td>\n",
       "      <td>Ultra Street Fighter IV</td>\n",
       "      <td>29.200000</td>\n",
       "      <td>2013</td>\n",
       "    </tr>\n",
       "    <tr>\n",
       "      <th>3</th>\n",
       "      <td>phrostb</td>\n",
       "      <td>238210</td>\n",
       "      <td>System Shock 2</td>\n",
       "      <td>26.233333</td>\n",
       "      <td>2014</td>\n",
       "    </tr>\n",
       "    <tr>\n",
       "      <th>4</th>\n",
       "      <td>phrostb</td>\n",
       "      <td>207750</td>\n",
       "      <td>Symphony</td>\n",
       "      <td>0.700000</td>\n",
       "      <td>2014</td>\n",
       "    </tr>\n",
       "  </tbody>\n",
       "</table>\n",
       "</div>"
      ],
      "text/plain": [
       "   user_id  item_id                item_name  playtime_forever  posted\n",
       "0  phrostb       70                Half-Life         21.716667    2014\n",
       "1  phrostb      620                 Portal 2         22.833333    2014\n",
       "2  phrostb    45760  Ultra Street Fighter IV         29.200000    2013\n",
       "3  phrostb   238210           System Shock 2         26.233333    2014\n",
       "4  phrostb   207750                 Symphony          0.700000    2014"
      ]
     },
     "execution_count": 10,
     "metadata": {},
     "output_type": "execute_result"
    }
   ],
   "source": [
    "juegos_años.head()"
   ]
  },
  {
   "cell_type": "code",
   "execution_count": 78,
   "metadata": {},
   "outputs": [
    {
     "data": {
      "text/plain": [
       "array([2014, 2013, 2015, 2010, 2012, 2011])"
      ]
     },
     "execution_count": 78,
     "metadata": {},
     "output_type": "execute_result"
    }
   ],
   "source": [
    "juegos_años.posted.unique()"
   ]
  },
  {
   "cell_type": "code",
   "execution_count": 101,
   "metadata": {},
   "outputs": [],
   "source": [
    "def UserForGenre(genero):\n",
    "    #obtengo liste de ids de juegos que se corresponden con ese género\n",
    "    juegos_id = juegos[juegos.tags.apply(lambda x:(genero.capitalize() in x) )]['id']\n",
    "    #creo diccionario con jugadores y horas jugadas\n",
    "    jugadores = juegos_años.user_id.unique()\n",
    "    horas_jugadas = { jugador:0 for jugador in jugadores}\n",
    "   #filtro el df con los ids de los juegos que responden al género \n",
    "    juegos_filtrados = juegos_años[juegos_años['item_id'].isin(juegos_id)]\n",
    "    # itero para sumar horas jugadas para cada jugador\n",
    "    for indice, fila in juegos_filtrados.iterrows():\n",
    "        horas_jugadas[fila['user_id']] += fila['playtime_forever']\n",
    "    #jugador con más horas jugadas\n",
    "    max_user = max(horas_jugadas, key=horas_jugadas.get)\n",
    "    # diccionario para calcular años con más horas jugadas.\n",
    "    horas_por_año = {año:0 for año in juegos_años.posted.unique()}\n",
    "\n",
    "    juegos_filtrados_por_usuario = juegos_años[(juegos_años['item_id'].isin(juegos_id)) & (juegos_años['user_id'] == max_user)]\n",
    "\n",
    "    for indice, fila in juegos_filtrados_por_usuario.iterrows():\n",
    "        horas_por_año[fila['posted']] += fila['playtime_forever']\n",
    "\n",
    "    \n",
    "    horas_por_año_ordenado = sorted(horas_por_año.items(), key=lambda x: x[1], reverse=True)\n",
    "    \n",
    "    horas_jugadas_top = [{\"Año\": año, \"Horas\": horas} for año, horas in horas_por_año_ordenado[:3] if horas > 0]\n",
    "    \n",
    "    return (f\"Usuario con más horas jugadas para Género {genero.capitalize()}: {max_user}, Horas jugadas: {horas_jugadas_top}\")"
   ]
  },
  {
   "cell_type": "code",
   "execution_count": 102,
   "metadata": {},
   "outputs": [
    {
     "data": {
      "text/plain": [
       "\"Usuario con más horas jugadas para Género Action: shinomegami, Horas jugadas: [{'Año': 2015, 'Horas': 594498}, {'Año': 2012, 'Horas': 137029}, {'Año': 2014, 'Horas': 8392}]\""
      ]
     },
     "execution_count": 102,
     "metadata": {},
     "output_type": "execute_result"
    }
   ],
   "source": [
    "UserForGenre('ACTION')"
   ]
  },
  {
   "cell_type": "code",
   "execution_count": 103,
   "metadata": {},
   "outputs": [],
   "source": [
    "def PlayTimeGenre(genero):\n",
    "    #obtengo lista de ids de juegos que se corresponden con ese género\n",
    "    juegos_id = juegos[juegos.tags.apply(lambda x:(genero.capitalize() in x) )]['id']\n",
    "    #filtro el df con los ids de los juegos que responden al género \n",
    "    juegos_filtrados = juegos_años[juegos_años['item_id'].isin(juegos_id)]\n",
    "    # itero para sumar horas jugadas para cada jugador\n",
    "    horas_por_release_year = {year:0 for year in juegos.release_date.unique()}\n",
    "    for indice, fila in juegos_filtrados.iterrows():\n",
    "        filtro = juegos['id'] == fila['item_id']\n",
    "        if isinstance(juegos.loc[filtro, 'release_date'], int): ## este filtro es para eliminar los juegos con release_date nulo\n",
    "            año_lanzamiento = int(juegos.loc[filtro, 'release_date'])\n",
    "            horas_por_release_year[año_lanzamiento]+= fila['playtime_forever']\n",
    "    \n",
    "    año = max(horas_por_release_year, key=horas_por_release_year.get)\n",
    "\n",
    "    return f\"Año de lanzamiento con más horas jugadas para Género {genero.capitalize()} : {año}\"\n",
    "    \n",
    "    "
   ]
  },
  {
   "cell_type": "code",
   "execution_count": 104,
   "metadata": {},
   "outputs": [
    {
     "data": {
      "text/plain": [
       "'Año de lanzamiento con más horas jugadas para Género Casual : 2018.0'"
      ]
     },
     "execution_count": 104,
     "metadata": {},
     "output_type": "execute_result"
    }
   ],
   "source": [
    "PlayTimeGenre('CaSuAl')"
   ]
  },
  {
   "cell_type": "code",
   "execution_count": 166,
   "metadata": {},
   "outputs": [],
   "source": [
    "def UsersRecommend(año):\n",
    "    if año not in reviews.posted.unique():\n",
    "        return f\"No hay recomendaciones para ese año. Pruebe con uno de estos años: {reviews.posted.unique()}\"\n",
    "    \n",
    "    df = reviews[(reviews.posted == año)&(reviews['item_id'].isin(juegos.id))][['posted', 'item_id', 'recommend', 'sentiment_analysis']]\n",
    "\n",
    "    juegos_recomendados = {item :0 for item in df.item_id.unique()}\n",
    "    \n",
    "    for indice, fila in df.iterrows():\n",
    "        if fila.recommend is True:\n",
    "            juegos_recomendados[fila['item_id']] +=1\n",
    "        juegos_recomendados[fila['item_id']] += fila.sentiment_analysis\n",
    "    \n",
    "    juegos_recomendados = sorted(juegos_recomendados.items(), key=lambda x: x[1], reverse=True)\n",
    "    \n",
    "    juego1 = str(juegos[juegos['id'] == juegos_recomendados[0][0]]['app_name'].iloc[0])\n",
    "    juego2 = str(juegos[juegos['id'] == juegos_recomendados[1][0]]['app_name'].iloc[0])\n",
    "    juego3 = str(juegos[juegos['id'] == juegos_recomendados[2][0]]['app_name'].iloc[0])\n",
    "\n",
    "    return f\"Puesto 1 : {juego1}, Puesto 2 : {juego2}, Puesto 3 : {juego3}\"\n",
    "    "
   ]
  },
  {
   "cell_type": "code",
   "execution_count": 157,
   "metadata": {},
   "outputs": [
    {
     "data": {
      "text/plain": [
       "\"Puesto 1 : Counter-Strike: Global Offensive, Puesto 2 : Team Fortress 2, Puesto 3 : Garry's Mod\""
      ]
     },
     "execution_count": 157,
     "metadata": {},
     "output_type": "execute_result"
    }
   ],
   "source": [
    "UsersRecommend(2015)"
   ]
  },
  {
   "cell_type": "code",
   "execution_count": 158,
   "metadata": {},
   "outputs": [],
   "source": [
    "def UsersNotRecommend(año):\n",
    "    if año not in reviews.posted.unique():\n",
    "        return f\"No hay recomendaciones para ese año. Pruebe con uno de estos años: {reviews.posted.unique()}\"\n",
    "    \n",
    "    df = reviews[(reviews.posted == año)&(reviews['item_id'].isin(juegos.id))][['posted', 'item_id', 'recommend', 'sentiment_analysis']]\n",
    "\n",
    "    juegos_recomendados = {item :0 for item in df.item_id.unique()}\n",
    "    \n",
    "    for indice, fila in df.iterrows():\n",
    "        if fila.recommend is False:\n",
    "            juegos_recomendados[fila['item_id']] +=1\n",
    "        if fila.sentiment_analysis == 0:\n",
    "            juegos_recomendados[fila['item_id']] +=1\n",
    "    \n",
    "    juegos_recomendados = sorted(juegos_recomendados.items(), key=lambda x: x[1], reverse=True)\n",
    "    \n",
    "    juego1 = str(juegos[juegos['id'] == juegos_recomendados[0][0]]['app_name'].iloc[0])\n",
    "    juego2 = str(juegos[juegos['id'] == juegos_recomendados[1][0]]['app_name'].iloc[0])\n",
    "    juego3 = str(juegos[juegos['id'] == juegos_recomendados[2][0]]['app_name'].iloc[0])\n",
    "\n",
    "    return f\"Puesto 1 : {juego1}, Puesto 2 : {juego2} , Puesto 3 : {juego3}\""
   ]
  },
  {
   "cell_type": "code",
   "execution_count": 167,
   "metadata": {},
   "outputs": [
    {
     "data": {
      "text/plain": [
       "'Puesto 1 : Counter-Strike: Global Offensive, Puesto 2 : PAYDAY 2 , Puesto 3 : DayZ'"
      ]
     },
     "execution_count": 167,
     "metadata": {},
     "output_type": "execute_result"
    }
   ],
   "source": [
    "UsersNotRecommend(2015)"
   ]
  },
  {
   "cell_type": "code",
   "execution_count": 164,
   "metadata": {},
   "outputs": [],
   "source": [
    "def SentimentAnalysis(año):\n",
    "    juegos_de_ese_año = list(juegos[juegos['release_date']== año].id)\n",
    "    reseñas = list(reviews[reviews['item_id'].isin(juegos_de_ese_año)]['sentiment_analysis'])\n",
    "    if len(reseñas) == 0:\n",
    "        return \"No hay reseñas para juegos lanzados ese año\"\n",
    "    else:\n",
    "        return f\"Negative = {reseñas.count(0)}, Neutral = {reseñas.count(1)}, Positive = {reseñas.count(2)}\"\n",
    "    "
   ]
  },
  {
   "cell_type": "code",
   "execution_count": 127,
   "metadata": {},
   "outputs": [
    {
     "data": {
      "text/plain": [
       "array([2018., 2017.,   nan, 1997., 1998., 2016., 2006., 2005., 2003.,\n",
       "       2007., 2002., 2000., 1995., 1996., 1994., 2001., 1993., 2004.,\n",
       "       1999., 2008., 2009., 1992., 1989., 2010., 2011., 2013., 2012.,\n",
       "       2014., 1983., 1984., 2015., 1990., 1988., 1991., 1985., 1982.,\n",
       "       1987., 1981., 1986., 2021., 2019., 1975., 1970., 1980.])"
      ]
     },
     "execution_count": 127,
     "metadata": {},
     "output_type": "execute_result"
    }
   ],
   "source": [
    "juegos.release_date.unique()"
   ]
  },
  {
   "cell_type": "code",
   "execution_count": 165,
   "metadata": {},
   "outputs": [
    {
     "data": {
      "text/plain": [
       "'Negative = 5, Neutral = 178, Positive = 3'"
      ]
     },
     "execution_count": 165,
     "metadata": {},
     "output_type": "execute_result"
    }
   ],
   "source": [
    "SentimentAnalysis(2003)"
   ]
  },
  {
   "cell_type": "code",
   "execution_count": 123,
   "metadata": {},
   "outputs": [
    {
     "data": {
      "text/plain": [
       "4513"
      ]
     },
     "execution_count": 123,
     "metadata": {},
     "output_type": "execute_result"
    }
   ],
   "source": [
    "list(reviews.sentiment_analysis).count(2)"
   ]
  },
  {
   "cell_type": "code",
   "execution_count": 109,
   "metadata": {},
   "outputs": [
    {
     "data": {
      "text/html": [
       "<div>\n",
       "<style scoped>\n",
       "    .dataframe tbody tr th:only-of-type {\n",
       "        vertical-align: middle;\n",
       "    }\n",
       "\n",
       "    .dataframe tbody tr th {\n",
       "        vertical-align: top;\n",
       "    }\n",
       "\n",
       "    .dataframe thead th {\n",
       "        text-align: right;\n",
       "    }\n",
       "</style>\n",
       "<table border=\"1\" class=\"dataframe\">\n",
       "  <thead>\n",
       "    <tr style=\"text-align: right;\">\n",
       "      <th></th>\n",
       "      <th>app_name</th>\n",
       "      <th>release_date</th>\n",
       "      <th>tags</th>\n",
       "      <th>id</th>\n",
       "    </tr>\n",
       "  </thead>\n",
       "  <tbody>\n",
       "    <tr>\n",
       "      <th>0</th>\n",
       "      <td>Lost Summoner Kitty</td>\n",
       "      <td>2018.0</td>\n",
       "      <td>['Strategy', 'Action', 'Indie', 'Casual', 'Sim...</td>\n",
       "      <td>761140.0</td>\n",
       "    </tr>\n",
       "  </tbody>\n",
       "</table>\n",
       "</div>"
      ],
      "text/plain": [
       "              app_name  release_date  \\\n",
       "0  Lost Summoner Kitty        2018.0   \n",
       "\n",
       "                                                tags        id  \n",
       "0  ['Strategy', 'Action', 'Indie', 'Casual', 'Sim...  761140.0  "
      ]
     },
     "execution_count": 109,
     "metadata": {},
     "output_type": "execute_result"
    }
   ],
   "source": [
    "juegos.head(1)"
   ]
  }
 ],
 "metadata": {
  "kernelspec": {
   "display_name": "Python 3",
   "language": "python",
   "name": "python3"
  },
  "language_info": {
   "codemirror_mode": {
    "name": "ipython",
    "version": 3
   },
   "file_extension": ".py",
   "mimetype": "text/x-python",
   "name": "python",
   "nbconvert_exporter": "python",
   "pygments_lexer": "ipython3",
   "version": "3.12.0"
  }
 },
 "nbformat": 4,
 "nbformat_minor": 2
}
