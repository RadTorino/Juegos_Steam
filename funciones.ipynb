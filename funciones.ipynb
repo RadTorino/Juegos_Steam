{
 "cells": [
  {
   "cell_type": "code",
   "execution_count": 1,
   "metadata": {},
   "outputs": [],
   "source": [
    "import pandas as pd"
   ]
  },
  {
   "cell_type": "code",
   "execution_count": 2,
   "metadata": {},
   "outputs": [],
   "source": [
    "juegos = pd.read_csv('games_final.csv')\n",
    "items = pd.read_csv('items_final_pulido.csv')\n",
    "reviews = pd.read_csv('reviews_final.csv')"
   ]
  },
  {
   "cell_type": "code",
   "execution_count": 3,
   "metadata": {},
   "outputs": [],
   "source": [
    "juegos = juegos.dropna(subset=['genres']) #elimino los juegos que no tienen género ya que no me sirven"
   ]
  },
  {
   "cell_type": "code",
   "execution_count": 4,
   "metadata": {},
   "outputs": [
    {
     "data": {
      "text/html": [
       "<div>\n",
       "<style scoped>\n",
       "    .dataframe tbody tr th:only-of-type {\n",
       "        vertical-align: middle;\n",
       "    }\n",
       "\n",
       "    .dataframe tbody tr th {\n",
       "        vertical-align: top;\n",
       "    }\n",
       "\n",
       "    .dataframe thead th {\n",
       "        text-align: right;\n",
       "    }\n",
       "</style>\n",
       "<table border=\"1\" class=\"dataframe\">\n",
       "  <thead>\n",
       "    <tr style=\"text-align: right;\">\n",
       "      <th></th>\n",
       "      <th>user_id</th>\n",
       "      <th>item_id</th>\n",
       "      <th>item_name</th>\n",
       "      <th>playtime_forever</th>\n",
       "    </tr>\n",
       "  </thead>\n",
       "  <tbody>\n",
       "    <tr>\n",
       "      <th>0</th>\n",
       "      <td>phrostb</td>\n",
       "      <td>300</td>\n",
       "      <td>Day of Defeat: Source</td>\n",
       "      <td>78</td>\n",
       "    </tr>\n",
       "  </tbody>\n",
       "</table>\n",
       "</div>"
      ],
      "text/plain": [
       "   user_id  item_id              item_name  playtime_forever\n",
       "0  phrostb      300  Day of Defeat: Source                78"
      ]
     },
     "execution_count": 4,
     "metadata": {},
     "output_type": "execute_result"
    }
   ],
   "source": [
    "items.head(1)"
   ]
  },
  {
   "cell_type": "code",
   "execution_count": 4,
   "metadata": {},
   "outputs": [],
   "source": [
    "reviews.posted = pd.to_datetime(reviews.posted).dt.year"
   ]
  },
  {
   "cell_type": "code",
   "execution_count": 5,
   "metadata": {},
   "outputs": [],
   "source": [
    "reviews_fecha = reviews.drop(columns=['funny', 'helpful', 'recommend', 'review'])"
   ]
  },
  {
   "cell_type": "code",
   "execution_count": 6,
   "metadata": {},
   "outputs": [],
   "source": [
    "juegos_años = pd.merge(items, reviews_fecha, on= ['user_id', 'item_id'], how='inner')"
   ]
  },
  {
   "cell_type": "code",
   "execution_count": 14,
   "metadata": {},
   "outputs": [
    {
     "name": "stdout",
     "output_type": "stream",
     "text": [
      "(303631, 4)\n",
      "(3072, 5)\n"
     ]
    }
   ],
   "source": [
    "print(items.shape)\n",
    "print(juegos_años.shape)"
   ]
  },
  {
   "cell_type": "code",
   "execution_count": 12,
   "metadata": {},
   "outputs": [
    {
     "data": {
      "text/html": [
       "<div>\n",
       "<style scoped>\n",
       "    .dataframe tbody tr th:only-of-type {\n",
       "        vertical-align: middle;\n",
       "    }\n",
       "\n",
       "    .dataframe tbody tr th {\n",
       "        vertical-align: top;\n",
       "    }\n",
       "\n",
       "    .dataframe thead th {\n",
       "        text-align: right;\n",
       "    }\n",
       "</style>\n",
       "<table border=\"1\" class=\"dataframe\">\n",
       "  <thead>\n",
       "    <tr style=\"text-align: right;\">\n",
       "      <th></th>\n",
       "      <th>user_id</th>\n",
       "      <th>item_id</th>\n",
       "      <th>item_name</th>\n",
       "      <th>playtime_forever</th>\n",
       "      <th>posted</th>\n",
       "    </tr>\n",
       "  </thead>\n",
       "  <tbody>\n",
       "    <tr>\n",
       "      <th>0</th>\n",
       "      <td>phrostb</td>\n",
       "      <td>70</td>\n",
       "      <td>Half-Life</td>\n",
       "      <td>1303</td>\n",
       "      <td>2014-01-19</td>\n",
       "    </tr>\n",
       "    <tr>\n",
       "      <th>1</th>\n",
       "      <td>phrostb</td>\n",
       "      <td>620</td>\n",
       "      <td>Portal 2</td>\n",
       "      <td>1370</td>\n",
       "      <td>2014-03-25</td>\n",
       "    </tr>\n",
       "    <tr>\n",
       "      <th>2</th>\n",
       "      <td>phrostb</td>\n",
       "      <td>45760</td>\n",
       "      <td>Ultra Street Fighter IV</td>\n",
       "      <td>1752</td>\n",
       "      <td>2013-11-01</td>\n",
       "    </tr>\n",
       "    <tr>\n",
       "      <th>3</th>\n",
       "      <td>phrostb</td>\n",
       "      <td>238210</td>\n",
       "      <td>System Shock 2</td>\n",
       "      <td>1574</td>\n",
       "      <td>2014-03-23</td>\n",
       "    </tr>\n",
       "    <tr>\n",
       "      <th>4</th>\n",
       "      <td>phrostb</td>\n",
       "      <td>207750</td>\n",
       "      <td>Symphony</td>\n",
       "      <td>42</td>\n",
       "      <td>2014-03-30</td>\n",
       "    </tr>\n",
       "    <tr>\n",
       "      <th>5</th>\n",
       "      <td>phrostb</td>\n",
       "      <td>300040</td>\n",
       "      <td>Divine Souls</td>\n",
       "      <td>16</td>\n",
       "      <td>2014-11-23</td>\n",
       "    </tr>\n",
       "    <tr>\n",
       "      <th>6</th>\n",
       "      <td>phrostb</td>\n",
       "      <td>387240</td>\n",
       "      <td>Steel Rain</td>\n",
       "      <td>4490</td>\n",
       "      <td>2015-12-23</td>\n",
       "    </tr>\n",
       "    <tr>\n",
       "      <th>7</th>\n",
       "      <td>thugnificent</td>\n",
       "      <td>321030</td>\n",
       "      <td>One Day For Ched</td>\n",
       "      <td>8</td>\n",
       "      <td>2014-09-28</td>\n",
       "    </tr>\n",
       "    <tr>\n",
       "      <th>8</th>\n",
       "      <td>chidvd</td>\n",
       "      <td>400</td>\n",
       "      <td>Portal</td>\n",
       "      <td>488</td>\n",
       "      <td>2010-12-20</td>\n",
       "    </tr>\n",
       "    <tr>\n",
       "      <th>9</th>\n",
       "      <td>chidvd</td>\n",
       "      <td>220</td>\n",
       "      <td>Half-Life 2</td>\n",
       "      <td>197</td>\n",
       "      <td>2012-02-01</td>\n",
       "    </tr>\n",
       "  </tbody>\n",
       "</table>\n",
       "</div>"
      ],
      "text/plain": [
       "        user_id  item_id                item_name  playtime_forever  \\\n",
       "0       phrostb       70                Half-Life              1303   \n",
       "1       phrostb      620                 Portal 2              1370   \n",
       "2       phrostb    45760  Ultra Street Fighter IV              1752   \n",
       "3       phrostb   238210           System Shock 2              1574   \n",
       "4       phrostb   207750                 Symphony                42   \n",
       "5       phrostb   300040             Divine Souls                16   \n",
       "6       phrostb   387240               Steel Rain              4490   \n",
       "7  thugnificent   321030         One Day For Ched                 8   \n",
       "8        chidvd      400                   Portal               488   \n",
       "9        chidvd      220              Half-Life 2               197   \n",
       "\n",
       "       posted  \n",
       "0  2014-01-19  \n",
       "1  2014-03-25  \n",
       "2  2013-11-01  \n",
       "3  2014-03-23  \n",
       "4  2014-03-30  \n",
       "5  2014-11-23  \n",
       "6  2015-12-23  \n",
       "7  2014-09-28  \n",
       "8  2010-12-20  \n",
       "9  2012-02-01  "
      ]
     },
     "execution_count": 12,
     "metadata": {},
     "output_type": "execute_result"
    }
   ],
   "source": [
    "juegos_años.head(10)"
   ]
  },
  {
   "cell_type": "code",
   "execution_count": 7,
   "metadata": {},
   "outputs": [],
   "source": [
    "#paso la columna posted a datetime y me quedo con los años\n",
    "juegos_años.posted = pd.to_datetime(juegos_años.posted).dt.year"
   ]
  },
  {
   "cell_type": "code",
   "execution_count": 8,
   "metadata": {},
   "outputs": [],
   "source": [
    "#la columna playtime_forever está en minutos, la paso a años.\n",
    "juegos_años.playtime_forever = juegos_años.playtime_forever/60"
   ]
  },
  {
   "cell_type": "code",
   "execution_count": 9,
   "metadata": {},
   "outputs": [],
   "source": [
    "def UserForGenre(genero):\n",
    "    #obtengo liste de ids de juegos que se corresponden con ese género\n",
    "    juegos_id = juegos[juegos.genres.apply(lambda x:(genero.capitalize() in x) )]['id']\n",
    "    #creo diccionario con jugadores y horas jugadas\n",
    "    jugadores = juegos_años.user_id.unique()\n",
    "    horas_jugadas = { jugador:0 for jugador in jugadores}\n",
    "   #filtro el df con los ids de los juegos que responden al género \n",
    "    juegos_filtrados = juegos_años[juegos_años['item_id'].isin(juegos_id)]\n",
    "    # itero para sumar horas jugadas para cada jugador\n",
    "    for indice, fila in juegos_filtrados.iterrows():\n",
    "        horas_jugadas[fila['user_id']] += fila['playtime_forever']\n",
    "    #jugador con más horas jugadas\n",
    "    max_user = max(horas_jugadas, key=horas_jugadas.get)\n",
    "    # diccionario para calcular años con más horas jugadas.\n",
    "    horas_por_año = {año:0 for año in juegos_años.posted.unique()}\n",
    "\n",
    "    juegos_filtrados_por_usuario = juegos_años[(juegos_años['item_id'].isin(juegos_id)) & (juegos_años['user_id'] == max_user)]\n",
    "\n",
    "    for indice, fila in juegos_filtrados_por_usuario.iterrows():\n",
    "        horas_por_año[fila['posted']] += fila['playtime_forever']\n",
    "\n",
    "    \n",
    "    horas_por_año_ordenado = sorted(horas_por_año.items(), key=lambda x: x[1], reverse=True)\n",
    "    \n",
    "    horas_jugadas_top = [{\"Año\": año, \"Horas\": horas} for año, horas in horas_por_año_ordenado[:3] if horas > 0]\n",
    "    \n",
    "    return (f\"Usuario con más horas jugadas para Género {genero.capitalize()}: {max_user}, Horas jugadas: {horas_jugadas_top}\")"
   ]
  },
  {
   "cell_type": "code",
   "execution_count": 10,
   "metadata": {},
   "outputs": [
    {
     "data": {
      "text/plain": [
       "\"Usuario con más horas jugadas para Género Action: shinomegami, Horas jugadas: [{'Año': 1970, 'Horas': 11271.716666666667}]\""
      ]
     },
     "execution_count": 10,
     "metadata": {},
     "output_type": "execute_result"
    }
   ],
   "source": [
    "UserForGenre('ACTION')"
   ]
  },
  {
   "cell_type": "code",
   "execution_count": 11,
   "metadata": {},
   "outputs": [],
   "source": [
    "juegos.release_date = pd.to_datetime(juegos.release_date).dt.year"
   ]
  },
  {
   "cell_type": "code",
   "execution_count": 85,
   "metadata": {},
   "outputs": [
    {
     "data": {
      "text/plain": [
       "39"
      ]
     },
     "execution_count": 85,
     "metadata": {},
     "output_type": "execute_result"
    }
   ],
   "source": [
    "len(juegos.release_date.unique())"
   ]
  },
  {
   "cell_type": "code",
   "execution_count": 86,
   "metadata": {},
   "outputs": [
    {
     "data": {
      "text/html": [
       "<div>\n",
       "<style scoped>\n",
       "    .dataframe tbody tr th:only-of-type {\n",
       "        vertical-align: middle;\n",
       "    }\n",
       "\n",
       "    .dataframe tbody tr th {\n",
       "        vertical-align: top;\n",
       "    }\n",
       "\n",
       "    .dataframe thead th {\n",
       "        text-align: right;\n",
       "    }\n",
       "</style>\n",
       "<table border=\"1\" class=\"dataframe\">\n",
       "  <thead>\n",
       "    <tr style=\"text-align: right;\">\n",
       "      <th></th>\n",
       "      <th>genres</th>\n",
       "      <th>app_name</th>\n",
       "      <th>title</th>\n",
       "      <th>release_date</th>\n",
       "      <th>tags</th>\n",
       "      <th>id</th>\n",
       "    </tr>\n",
       "  </thead>\n",
       "  <tbody>\n",
       "    <tr>\n",
       "      <th>0</th>\n",
       "      <td>['Action', 'Casual', 'Indie', 'Simulation', 'S...</td>\n",
       "      <td>Lost Summoner Kitty</td>\n",
       "      <td>Lost Summoner Kitty</td>\n",
       "      <td>2018.0</td>\n",
       "      <td>['Strategy', 'Action', 'Indie', 'Casual', 'Sim...</td>\n",
       "      <td>761140.0</td>\n",
       "    </tr>\n",
       "  </tbody>\n",
       "</table>\n",
       "</div>"
      ],
      "text/plain": [
       "                                              genres             app_name  \\\n",
       "0  ['Action', 'Casual', 'Indie', 'Simulation', 'S...  Lost Summoner Kitty   \n",
       "\n",
       "                 title  release_date  \\\n",
       "0  Lost Summoner Kitty        2018.0   \n",
       "\n",
       "                                                tags        id  \n",
       "0  ['Strategy', 'Action', 'Indie', 'Casual', 'Sim...  761140.0  "
      ]
     },
     "execution_count": 86,
     "metadata": {},
     "output_type": "execute_result"
    }
   ],
   "source": [
    "juegos.head(1)"
   ]
  },
  {
   "cell_type": "code",
   "execution_count": 94,
   "metadata": {},
   "outputs": [
    {
     "name": "stderr",
     "output_type": "stream",
     "text": [
      "C:\\Users\\torin\\AppData\\Local\\Temp\\ipykernel_10216\\898201801.py:2: FutureWarning: Calling int on a single element Series is deprecated and will raise a TypeError in the future. Use int(ser.iloc[0]) instead\n",
      "  año_lanzamiento = int(juegos.loc[filtro, 'release_date'])\n"
     ]
    },
    {
     "data": {
      "text/plain": [
       "2018"
      ]
     },
     "execution_count": 94,
     "metadata": {},
     "output_type": "execute_result"
    }
   ],
   "source": [
    "filtro = juegos['id'] == 761140.0\n",
    "año_lanzamiento = int(juegos.loc[filtro, 'release_date'])\n",
    "año_lanzamiento"
   ]
  },
  {
   "cell_type": "code",
   "execution_count": 12,
   "metadata": {},
   "outputs": [],
   "source": [
    "def PlayTimeGenre(genero):\n",
    "    #obtengo liste de ids de juegos que se corresponden con ese género\n",
    "    juegos_id = juegos[juegos.genres.apply(lambda x:(genero.capitalize() in x) )]['id']\n",
    "    #filtro el df con los ids de los juegos que responden al género \n",
    "    juegos_filtrados = juegos_años[juegos_años['item_id'].isin(juegos_id)]\n",
    "    # itero para sumar horas jugadas para cada jugador\n",
    "    horas_por_release_year = {year:0 for year in juegos.release_date.unique()}\n",
    "    for indice, fila in juegos_filtrados.iterrows():\n",
    "        filtro = juegos['id'] == fila['item_id']\n",
    "        año_lanzamiento = int(juegos.loc[filtro, 'release_date'])\n",
    "        horas_por_release_year[año_lanzamiento]+= fila['playtime_forever']\n",
    "    \n",
    "    año = max(horas_por_release_year, key=horas_por_release_year.get)\n",
    "\n",
    "    return f\"Año de lanzamiento con más horas jugadas para Género {genero.capitalize()} : {año}\"\n",
    "    \n",
    "    "
   ]
  },
  {
   "cell_type": "code",
   "execution_count": 13,
   "metadata": {},
   "outputs": [
    {
     "name": "stderr",
     "output_type": "stream",
     "text": [
      "C:\\Users\\torin\\AppData\\Local\\Temp\\ipykernel_19840\\1508120866.py:10: FutureWarning: Calling int on a single element Series is deprecated and will raise a TypeError in the future. Use int(ser.iloc[0]) instead\n",
      "  año_lanzamiento = int(juegos.loc[filtro, 'release_date'])\n"
     ]
    },
    {
     "data": {
      "text/plain": [
       "'Año de lanzamiento con más horas jugadas para Género Casual : 2011.0'"
      ]
     },
     "execution_count": 13,
     "metadata": {},
     "output_type": "execute_result"
    }
   ],
   "source": [
    "PlayTimeGenre('CaSuAl')"
   ]
  },
  {
   "cell_type": "code",
   "execution_count": 81,
   "metadata": {},
   "outputs": [],
   "source": [
    "def UsersRecommend(año):\n",
    "    if año not in reviews.posted.unique():\n",
    "        return f\"No hay recomendaciones para ese año. Pruebe con uno de estos años: {reviews.posted.unique()}\"\n",
    "    \n",
    "    df = reviews[(reviews.posted == año)&(reviews['item_id'].isin(juegos.id))][['posted', 'item_id', 'recommend']]\n",
    "\n",
    "    juegos_recomendados = {item :0 for item in df.item_id.unique()}\n",
    "    \n",
    "    for indice, fila in df.iterrows():\n",
    "        juegos_recomendados[fila['item_id']] +=1\n",
    "    \n",
    "    juegos_recomendados = sorted(juegos_recomendados.items(), key=lambda x: x[1], reverse=True)\n",
    "    \n",
    "    juego1 = str(juegos[juegos['id'] == juegos_recomendados[0][0]]['title'].iloc[0])\n",
    "    juego2 = str(juegos[juegos['id'] == juegos_recomendados[1][0]]['title'].iloc[0])\n",
    "    juego3 = str(juegos[juegos['id'] == juegos_recomendados[2][0]]['title'].iloc[0])\n",
    "\n",
    "    return f\"Puesto 1 : {juego1}, Puesto 2 : {juego2}, Puesto 3 : {juego3}\"\n",
    "    "
   ]
  },
  {
   "cell_type": "code",
   "execution_count": 83,
   "metadata": {},
   "outputs": [
    {
     "data": {
      "text/plain": [
       "\"Puesto 1 : Team Fortress 2, Puesto 2 : Counter-Strike: Global Offensive, Puesto 3 : Garry's Mod\""
      ]
     },
     "execution_count": 83,
     "metadata": {},
     "output_type": "execute_result"
    }
   ],
   "source": [
    "UsersRecommend(2014)"
   ]
  },
  {
   "cell_type": "code",
   "execution_count": 80,
   "metadata": {},
   "outputs": [
    {
     "data": {
      "text/html": [
       "<div>\n",
       "<style scoped>\n",
       "    .dataframe tbody tr th:only-of-type {\n",
       "        vertical-align: middle;\n",
       "    }\n",
       "\n",
       "    .dataframe tbody tr th {\n",
       "        vertical-align: top;\n",
       "    }\n",
       "\n",
       "    .dataframe thead th {\n",
       "        text-align: right;\n",
       "    }\n",
       "</style>\n",
       "<table border=\"1\" class=\"dataframe\">\n",
       "  <thead>\n",
       "    <tr style=\"text-align: right;\">\n",
       "      <th></th>\n",
       "      <th>genres</th>\n",
       "      <th>app_name</th>\n",
       "      <th>title</th>\n",
       "      <th>release_date</th>\n",
       "      <th>tags</th>\n",
       "      <th>id</th>\n",
       "    </tr>\n",
       "  </thead>\n",
       "  <tbody>\n",
       "    <tr>\n",
       "      <th>31529</th>\n",
       "      <td>['Action']</td>\n",
       "      <td>Left 4 Dead 2</td>\n",
       "      <td>Left 4 Dead 2</td>\n",
       "      <td>2009.0</td>\n",
       "      <td>['Zombies', 'Co-op', 'FPS', 'Multiplayer', 'Ac...</td>\n",
       "      <td>550.0</td>\n",
       "    </tr>\n",
       "  </tbody>\n",
       "</table>\n",
       "</div>"
      ],
      "text/plain": [
       "           genres       app_name          title  release_date  \\\n",
       "31529  ['Action']  Left 4 Dead 2  Left 4 Dead 2        2009.0   \n",
       "\n",
       "                                                    tags     id  \n",
       "31529  ['Zombies', 'Co-op', 'FPS', 'Multiplayer', 'Ac...  550.0  "
      ]
     },
     "execution_count": 80,
     "metadata": {},
     "output_type": "execute_result"
    }
   ],
   "source": [
    "juegos[juegos['id'] ==550]"
   ]
  }
 ],
 "metadata": {
  "kernelspec": {
   "display_name": "Python 3",
   "language": "python",
   "name": "python3"
  },
  "language_info": {
   "codemirror_mode": {
    "name": "ipython",
    "version": 3
   },
   "file_extension": ".py",
   "mimetype": "text/x-python",
   "name": "python",
   "nbconvert_exporter": "python",
   "pygments_lexer": "ipython3",
   "version": "3.12.0"
  }
 },
 "nbformat": 4,
 "nbformat_minor": 2
}
