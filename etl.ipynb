{
 "cells": [
  {
   "cell_type": "code",
   "execution_count": 24,
   "metadata": {},
   "outputs": [],
   "source": [
    "import pandas as pd\n",
    "import json\n",
    "import gzip\n",
    "import ast"
   ]
  },
  {
   "cell_type": "code",
   "execution_count": 2,
   "metadata": {},
   "outputs": [],
   "source": [
    "data = []\n",
    "with gzip.open('steam_games.json.gz','rb') as f:\n",
    "    for line in f:\n",
    "        data.append(json.loads(line))\n",
    "f.close()\n",
    "games=pd.DataFrame(data)"
   ]
  },
  {
   "cell_type": "code",
   "execution_count": 4,
   "metadata": {},
   "outputs": [
    {
     "data": {
      "text/plain": [
       "(120445, 13)"
      ]
     },
     "execution_count": 4,
     "metadata": {},
     "output_type": "execute_result"
    }
   ],
   "source": [
    "games.shape"
   ]
  },
  {
   "cell_type": "markdown",
   "metadata": {},
   "source": [
    "**Elimino del df las filas completamente nulas**"
   ]
  },
  {
   "cell_type": "code",
   "execution_count": 3,
   "metadata": {},
   "outputs": [
    {
     "data": {
      "text/plain": [
       "True     88310\n",
       "False    32135\n",
       "Name: count, dtype: int64"
      ]
     },
     "execution_count": 3,
     "metadata": {},
     "output_type": "execute_result"
    }
   ],
   "source": [
    "games.isnull().all(axis=1).value_counts() #cuento filas vacías"
   ]
  },
  {
   "cell_type": "code",
   "execution_count": 4,
   "metadata": {},
   "outputs": [
    {
     "data": {
      "text/plain": [
       "(32135, 13)"
      ]
     },
     "execution_count": 4,
     "metadata": {},
     "output_type": "execute_result"
    }
   ],
   "source": [
    "games_clean = games.dropna(axis=0, how='all')\n",
    "games_clean.shape"
   ]
  },
  {
   "cell_type": "markdown",
   "metadata": {},
   "source": [
    "**Paso a formato fecha la columna release_date**"
   ]
  },
  {
   "cell_type": "code",
   "execution_count": 6,
   "metadata": {},
   "outputs": [
    {
     "name": "stderr",
     "output_type": "stream",
     "text": [
      "C:\\Users\\torin\\AppData\\Local\\Temp\\ipykernel_7804\\750404850.py:1: SettingWithCopyWarning: \n",
      "A value is trying to be set on a copy of a slice from a DataFrame.\n",
      "Try using .loc[row_indexer,col_indexer] = value instead\n",
      "\n",
      "See the caveats in the documentation: https://pandas.pydata.org/pandas-docs/stable/user_guide/indexing.html#returning-a-view-versus-a-copy\n",
      "  games_clean.release_date= pd.to_datetime(games_clean.release_date, format= 'mixed', errors='coerce')\n"
     ]
    },
    {
     "data": {
      "text/plain": [
       "Timestamp('2018-01-04 00:00:00')"
      ]
     },
     "execution_count": 6,
     "metadata": {},
     "output_type": "execute_result"
    }
   ],
   "source": [
    "games_clean.release_date= pd.to_datetime(games_clean.release_date, format= 'mixed', errors='coerce')\n",
    "games_clean.release_date.iloc[0]"
   ]
  },
  {
   "cell_type": "code",
   "execution_count": 65,
   "metadata": {},
   "outputs": [
    {
     "data": {
      "text/html": [
       "<div>\n",
       "<style scoped>\n",
       "    .dataframe tbody tr th:only-of-type {\n",
       "        vertical-align: middle;\n",
       "    }\n",
       "\n",
       "    .dataframe tbody tr th {\n",
       "        vertical-align: top;\n",
       "    }\n",
       "\n",
       "    .dataframe thead th {\n",
       "        text-align: right;\n",
       "    }\n",
       "</style>\n",
       "<table border=\"1\" class=\"dataframe\">\n",
       "  <thead>\n",
       "    <tr style=\"text-align: right;\">\n",
       "      <th></th>\n",
       "      <th>publisher</th>\n",
       "      <th>genres</th>\n",
       "      <th>app_name</th>\n",
       "      <th>title</th>\n",
       "      <th>url</th>\n",
       "      <th>release_date</th>\n",
       "      <th>tags</th>\n",
       "      <th>reviews_url</th>\n",
       "      <th>specs</th>\n",
       "      <th>price</th>\n",
       "      <th>early_access</th>\n",
       "      <th>id</th>\n",
       "      <th>developer</th>\n",
       "    </tr>\n",
       "  </thead>\n",
       "  <tbody>\n",
       "    <tr>\n",
       "      <th>88310</th>\n",
       "      <td>Kotoshiro</td>\n",
       "      <td>[Action, Casual, Indie, Simulation, Strategy]</td>\n",
       "      <td>Lost Summoner Kitty</td>\n",
       "      <td>Lost Summoner Kitty</td>\n",
       "      <td>http://store.steampowered.com/app/761140/Lost_...</td>\n",
       "      <td>2018-01-04</td>\n",
       "      <td>[Strategy, Action, Indie, Casual, Simulation]</td>\n",
       "      <td>http://steamcommunity.com/app/761140/reviews/?...</td>\n",
       "      <td>[Single-player]</td>\n",
       "      <td>4.99</td>\n",
       "      <td>False</td>\n",
       "      <td>761140</td>\n",
       "      <td>Kotoshiro</td>\n",
       "    </tr>\n",
       "  </tbody>\n",
       "</table>\n",
       "</div>"
      ],
      "text/plain": [
       "       publisher                                         genres  \\\n",
       "88310  Kotoshiro  [Action, Casual, Indie, Simulation, Strategy]   \n",
       "\n",
       "                  app_name                title  \\\n",
       "88310  Lost Summoner Kitty  Lost Summoner Kitty   \n",
       "\n",
       "                                                     url release_date  \\\n",
       "88310  http://store.steampowered.com/app/761140/Lost_...   2018-01-04   \n",
       "\n",
       "                                                tags  \\\n",
       "88310  [Strategy, Action, Indie, Casual, Simulation]   \n",
       "\n",
       "                                             reviews_url            specs  \\\n",
       "88310  http://steamcommunity.com/app/761140/reviews/?...  [Single-player]   \n",
       "\n",
       "      price early_access      id  developer  \n",
       "88310  4.99        False  761140  Kotoshiro  "
      ]
     },
     "execution_count": 65,
     "metadata": {},
     "output_type": "execute_result"
    }
   ],
   "source": [
    "games_clean.head(1)"
   ]
  },
  {
   "cell_type": "code",
   "execution_count": 66,
   "metadata": {},
   "outputs": [
    {
     "name": "stderr",
     "output_type": "stream",
     "text": [
      "C:\\Users\\torin\\AppData\\Local\\Temp\\ipykernel_7804\\3280226977.py:1: SettingWithCopyWarning: \n",
      "A value is trying to be set on a copy of a slice from a DataFrame\n",
      "\n",
      "See the caveats in the documentation: https://pandas.pydata.org/pandas-docs/stable/user_guide/indexing.html#returning-a-view-versus-a-copy\n",
      "  games_clean.drop(columns = ['publisher', 'url', 'reviews_url', 'specs', 'price', 'early_access', 'developer'], inplace=True)\n"
     ]
    }
   ],
   "source": [
    "#limpio algunas columnas que no me sirven\n",
    "games_clean.drop(columns = ['publisher', 'url', 'reviews_url', 'specs', 'price', 'early_access', 'developer'], inplace=True)"
   ]
  },
  {
   "cell_type": "code",
   "execution_count": 68,
   "metadata": {},
   "outputs": [],
   "source": [
    "#exporto el df final como un csv.\n",
    "games_clean.to_csv('games_final.csv', index=False) "
   ]
  },
  {
   "cell_type": "code",
   "execution_count": 7,
   "metadata": {},
   "outputs": [],
   "source": [
    "data = []\n",
    "with gzip.open('user_reviews.json.gz', 'rb') as f:\n",
    "    for line in f:\n",
    "        data.append(ast.literal_eval(line.decode('utf-8')))\n",
    "f.close()\n",
    "reviews = pd.DataFrame(data)"
   ]
  },
  {
   "cell_type": "code",
   "execution_count": 18,
   "metadata": {},
   "outputs": [
    {
     "data": {
      "text/html": [
       "<div>\n",
       "<style scoped>\n",
       "    .dataframe tbody tr th:only-of-type {\n",
       "        vertical-align: middle;\n",
       "    }\n",
       "\n",
       "    .dataframe tbody tr th {\n",
       "        vertical-align: top;\n",
       "    }\n",
       "\n",
       "    .dataframe thead th {\n",
       "        text-align: right;\n",
       "    }\n",
       "</style>\n",
       "<table border=\"1\" class=\"dataframe\">\n",
       "  <thead>\n",
       "    <tr style=\"text-align: right;\">\n",
       "      <th></th>\n",
       "      <th>user_id</th>\n",
       "      <th>user_url</th>\n",
       "      <th>reviews</th>\n",
       "    </tr>\n",
       "  </thead>\n",
       "  <tbody>\n",
       "    <tr>\n",
       "      <th>0</th>\n",
       "      <td>76561197970982479</td>\n",
       "      <td>http://steamcommunity.com/profiles/76561197970...</td>\n",
       "      <td>[{'funny': '', 'posted': 'Posted November 5, 2...</td>\n",
       "    </tr>\n",
       "    <tr>\n",
       "      <th>1</th>\n",
       "      <td>js41637</td>\n",
       "      <td>http://steamcommunity.com/id/js41637</td>\n",
       "      <td>[{'funny': '', 'posted': 'Posted June 24, 2014...</td>\n",
       "    </tr>\n",
       "    <tr>\n",
       "      <th>2</th>\n",
       "      <td>evcentric</td>\n",
       "      <td>http://steamcommunity.com/id/evcentric</td>\n",
       "      <td>[{'funny': '', 'posted': 'Posted February 3.',...</td>\n",
       "    </tr>\n",
       "    <tr>\n",
       "      <th>3</th>\n",
       "      <td>doctr</td>\n",
       "      <td>http://steamcommunity.com/id/doctr</td>\n",
       "      <td>[{'funny': '', 'posted': 'Posted October 14, 2...</td>\n",
       "    </tr>\n",
       "    <tr>\n",
       "      <th>4</th>\n",
       "      <td>maplemage</td>\n",
       "      <td>http://steamcommunity.com/id/maplemage</td>\n",
       "      <td>[{'funny': '3 people found this review funny',...</td>\n",
       "    </tr>\n",
       "  </tbody>\n",
       "</table>\n",
       "</div>"
      ],
      "text/plain": [
       "             user_id                                           user_url  \\\n",
       "0  76561197970982479  http://steamcommunity.com/profiles/76561197970...   \n",
       "1            js41637               http://steamcommunity.com/id/js41637   \n",
       "2          evcentric             http://steamcommunity.com/id/evcentric   \n",
       "3              doctr                 http://steamcommunity.com/id/doctr   \n",
       "4          maplemage             http://steamcommunity.com/id/maplemage   \n",
       "\n",
       "                                             reviews  \n",
       "0  [{'funny': '', 'posted': 'Posted November 5, 2...  \n",
       "1  [{'funny': '', 'posted': 'Posted June 24, 2014...  \n",
       "2  [{'funny': '', 'posted': 'Posted February 3.',...  \n",
       "3  [{'funny': '', 'posted': 'Posted October 14, 2...  \n",
       "4  [{'funny': '3 people found this review funny',...  "
      ]
     },
     "execution_count": 18,
     "metadata": {},
     "output_type": "execute_result"
    }
   ],
   "source": [
    "reviews.head()"
   ]
  },
  {
   "cell_type": "markdown",
   "metadata": {},
   "source": [
    "**Este código desanida la lista de reviews para cada usuario. La primer línea genera una fila por review de usuario dentro del dataframe. La segunda modifica el index para después poder concatenar. La tercer línea toma el diccionario dentro de cada review y lo normaliza, generando una columna para cada categoría dentro del review. La última une el dataframe que tiene una fila por review (con los datos del usuario) con el dataframe que tiene las columnas de las reviews**"
   ]
  },
  {
   "cell_type": "code",
   "execution_count": 8,
   "metadata": {},
   "outputs": [],
   "source": [
    "final_reviews = reviews.explode('reviews') # armo una fila por cada elemento dentro de la lista reviews\n",
    "final_reviews.index = range(len(final_reviews)) #reseteo el index\n",
    "reviews_desanidados = pd.json_normalize(final_reviews.reviews) # armo un DF, con cada clave del diccionario dentro de reviews como una columna\n",
    "reviews_clean = pd.concat([final_reviews.drop(columns= ['reviews']), reviews_desanidados], axis=1) #concateno el df extendido (con una fila por review de usuario) con el df con una columna por key de review"
   ]
  },
  {
   "cell_type": "code",
   "execution_count": 9,
   "metadata": {},
   "outputs": [
    {
     "data": {
      "text/html": [
       "<div>\n",
       "<style scoped>\n",
       "    .dataframe tbody tr th:only-of-type {\n",
       "        vertical-align: middle;\n",
       "    }\n",
       "\n",
       "    .dataframe tbody tr th {\n",
       "        vertical-align: top;\n",
       "    }\n",
       "\n",
       "    .dataframe thead th {\n",
       "        text-align: right;\n",
       "    }\n",
       "</style>\n",
       "<table border=\"1\" class=\"dataframe\">\n",
       "  <thead>\n",
       "    <tr style=\"text-align: right;\">\n",
       "      <th></th>\n",
       "      <th>user_id</th>\n",
       "      <th>user_url</th>\n",
       "      <th>funny</th>\n",
       "      <th>posted</th>\n",
       "      <th>last_edited</th>\n",
       "      <th>item_id</th>\n",
       "      <th>helpful</th>\n",
       "      <th>recommend</th>\n",
       "      <th>review</th>\n",
       "    </tr>\n",
       "  </thead>\n",
       "  <tbody>\n",
       "    <tr>\n",
       "      <th>0</th>\n",
       "      <td>76561197970982479</td>\n",
       "      <td>http://steamcommunity.com/profiles/76561197970...</td>\n",
       "      <td></td>\n",
       "      <td>Posted November 5, 2011.</td>\n",
       "      <td></td>\n",
       "      <td>1250</td>\n",
       "      <td>No ratings yet</td>\n",
       "      <td>True</td>\n",
       "      <td>Simple yet with great replayability. In my opi...</td>\n",
       "    </tr>\n",
       "    <tr>\n",
       "      <th>1</th>\n",
       "      <td>76561197970982479</td>\n",
       "      <td>http://steamcommunity.com/profiles/76561197970...</td>\n",
       "      <td></td>\n",
       "      <td>Posted July 15, 2011.</td>\n",
       "      <td></td>\n",
       "      <td>22200</td>\n",
       "      <td>No ratings yet</td>\n",
       "      <td>True</td>\n",
       "      <td>It's unique and worth a playthrough.</td>\n",
       "    </tr>\n",
       "    <tr>\n",
       "      <th>2</th>\n",
       "      <td>76561197970982479</td>\n",
       "      <td>http://steamcommunity.com/profiles/76561197970...</td>\n",
       "      <td></td>\n",
       "      <td>Posted April 21, 2011.</td>\n",
       "      <td></td>\n",
       "      <td>43110</td>\n",
       "      <td>No ratings yet</td>\n",
       "      <td>True</td>\n",
       "      <td>Great atmosphere. The gunplay can be a bit chu...</td>\n",
       "    </tr>\n",
       "    <tr>\n",
       "      <th>3</th>\n",
       "      <td>js41637</td>\n",
       "      <td>http://steamcommunity.com/id/js41637</td>\n",
       "      <td></td>\n",
       "      <td>Posted June 24, 2014.</td>\n",
       "      <td></td>\n",
       "      <td>251610</td>\n",
       "      <td>15 of 20 people (75%) found this review helpful</td>\n",
       "      <td>True</td>\n",
       "      <td>I know what you think when you see this title ...</td>\n",
       "    </tr>\n",
       "    <tr>\n",
       "      <th>4</th>\n",
       "      <td>js41637</td>\n",
       "      <td>http://steamcommunity.com/id/js41637</td>\n",
       "      <td></td>\n",
       "      <td>Posted September 8, 2013.</td>\n",
       "      <td></td>\n",
       "      <td>227300</td>\n",
       "      <td>0 of 1 people (0%) found this review helpful</td>\n",
       "      <td>True</td>\n",
       "      <td>For a simple (it's actually not all that simpl...</td>\n",
       "    </tr>\n",
       "    <tr>\n",
       "      <th>...</th>\n",
       "      <td>...</td>\n",
       "      <td>...</td>\n",
       "      <td>...</td>\n",
       "      <td>...</td>\n",
       "      <td>...</td>\n",
       "      <td>...</td>\n",
       "      <td>...</td>\n",
       "      <td>...</td>\n",
       "      <td>...</td>\n",
       "    </tr>\n",
       "    <tr>\n",
       "      <th>59328</th>\n",
       "      <td>76561198312638244</td>\n",
       "      <td>http://steamcommunity.com/profiles/76561198312...</td>\n",
       "      <td></td>\n",
       "      <td>Posted July 10.</td>\n",
       "      <td></td>\n",
       "      <td>70</td>\n",
       "      <td>No ratings yet</td>\n",
       "      <td>True</td>\n",
       "      <td>a must have classic from steam definitely wort...</td>\n",
       "    </tr>\n",
       "    <tr>\n",
       "      <th>59329</th>\n",
       "      <td>76561198312638244</td>\n",
       "      <td>http://steamcommunity.com/profiles/76561198312...</td>\n",
       "      <td></td>\n",
       "      <td>Posted July 8.</td>\n",
       "      <td></td>\n",
       "      <td>362890</td>\n",
       "      <td>No ratings yet</td>\n",
       "      <td>True</td>\n",
       "      <td>this game is a perfect remake of the original ...</td>\n",
       "    </tr>\n",
       "    <tr>\n",
       "      <th>59330</th>\n",
       "      <td>LydiaMorley</td>\n",
       "      <td>http://steamcommunity.com/id/LydiaMorley</td>\n",
       "      <td>1 person found this review funny</td>\n",
       "      <td>Posted July 3.</td>\n",
       "      <td></td>\n",
       "      <td>273110</td>\n",
       "      <td>1 of 2 people (50%) found this review helpful</td>\n",
       "      <td>True</td>\n",
       "      <td>had so much fun plaing this and collecting res...</td>\n",
       "    </tr>\n",
       "    <tr>\n",
       "      <th>59331</th>\n",
       "      <td>LydiaMorley</td>\n",
       "      <td>http://steamcommunity.com/id/LydiaMorley</td>\n",
       "      <td></td>\n",
       "      <td>Posted July 20.</td>\n",
       "      <td></td>\n",
       "      <td>730</td>\n",
       "      <td>No ratings yet</td>\n",
       "      <td>True</td>\n",
       "      <td>:D</td>\n",
       "    </tr>\n",
       "    <tr>\n",
       "      <th>59332</th>\n",
       "      <td>LydiaMorley</td>\n",
       "      <td>http://steamcommunity.com/id/LydiaMorley</td>\n",
       "      <td></td>\n",
       "      <td>Posted July 2.</td>\n",
       "      <td></td>\n",
       "      <td>440</td>\n",
       "      <td>No ratings yet</td>\n",
       "      <td>True</td>\n",
       "      <td>so much fun :D</td>\n",
       "    </tr>\n",
       "  </tbody>\n",
       "</table>\n",
       "<p>59333 rows × 9 columns</p>\n",
       "</div>"
      ],
      "text/plain": [
       "                 user_id                                           user_url  \\\n",
       "0      76561197970982479  http://steamcommunity.com/profiles/76561197970...   \n",
       "1      76561197970982479  http://steamcommunity.com/profiles/76561197970...   \n",
       "2      76561197970982479  http://steamcommunity.com/profiles/76561197970...   \n",
       "3                js41637               http://steamcommunity.com/id/js41637   \n",
       "4                js41637               http://steamcommunity.com/id/js41637   \n",
       "...                  ...                                                ...   \n",
       "59328  76561198312638244  http://steamcommunity.com/profiles/76561198312...   \n",
       "59329  76561198312638244  http://steamcommunity.com/profiles/76561198312...   \n",
       "59330        LydiaMorley           http://steamcommunity.com/id/LydiaMorley   \n",
       "59331        LydiaMorley           http://steamcommunity.com/id/LydiaMorley   \n",
       "59332        LydiaMorley           http://steamcommunity.com/id/LydiaMorley   \n",
       "\n",
       "                                  funny                     posted  \\\n",
       "0                                         Posted November 5, 2011.   \n",
       "1                                            Posted July 15, 2011.   \n",
       "2                                           Posted April 21, 2011.   \n",
       "3                                            Posted June 24, 2014.   \n",
       "4                                        Posted September 8, 2013.   \n",
       "...                                 ...                        ...   \n",
       "59328                                              Posted July 10.   \n",
       "59329                                               Posted July 8.   \n",
       "59330  1 person found this review funny             Posted July 3.   \n",
       "59331                                              Posted July 20.   \n",
       "59332                                               Posted July 2.   \n",
       "\n",
       "      last_edited item_id                                          helpful  \\\n",
       "0                    1250                                   No ratings yet   \n",
       "1                   22200                                   No ratings yet   \n",
       "2                   43110                                   No ratings yet   \n",
       "3                  251610  15 of 20 people (75%) found this review helpful   \n",
       "4                  227300     0 of 1 people (0%) found this review helpful   \n",
       "...           ...     ...                                              ...   \n",
       "59328                  70                                   No ratings yet   \n",
       "59329              362890                                   No ratings yet   \n",
       "59330              273110    1 of 2 people (50%) found this review helpful   \n",
       "59331                 730                                   No ratings yet   \n",
       "59332                 440                                   No ratings yet   \n",
       "\n",
       "      recommend                                             review  \n",
       "0          True  Simple yet with great replayability. In my opi...  \n",
       "1          True               It's unique and worth a playthrough.  \n",
       "2          True  Great atmosphere. The gunplay can be a bit chu...  \n",
       "3          True  I know what you think when you see this title ...  \n",
       "4          True  For a simple (it's actually not all that simpl...  \n",
       "...         ...                                                ...  \n",
       "59328      True  a must have classic from steam definitely wort...  \n",
       "59329      True  this game is a perfect remake of the original ...  \n",
       "59330      True  had so much fun plaing this and collecting res...  \n",
       "59331      True                                                 :D  \n",
       "59332      True                                     so much fun :D  \n",
       "\n",
       "[59333 rows x 9 columns]"
      ]
     },
     "execution_count": 9,
     "metadata": {},
     "output_type": "execute_result"
    }
   ],
   "source": [
    "reviews_clean"
   ]
  },
  {
   "cell_type": "markdown",
   "metadata": {},
   "source": [
    "**Este código limpia los datos de la columna 'Posted' para después transformarlo a formato fecha y que sea más fácil de generar las búsquedas. Elimino las filas que no tienen año.**"
   ]
  },
  {
   "cell_type": "code",
   "execution_count": 10,
   "metadata": {},
   "outputs": [
    {
     "data": {
      "text/plain": [
       "0   2011-11-05\n",
       "1   2011-07-15\n",
       "2   2011-04-21\n",
       "3   2014-06-24\n",
       "4   2013-09-08\n",
       "Name: posted, dtype: datetime64[ns]"
      ]
     },
     "execution_count": 10,
     "metadata": {},
     "output_type": "execute_result"
    }
   ],
   "source": [
    "fecha = pd.to_datetime(reviews_clean.posted.str.replace('Posted', ''), format='mixed', errors='coerce')\n",
    "fecha.head()"
   ]
  },
  {
   "cell_type": "code",
   "execution_count": 24,
   "metadata": {},
   "outputs": [
    {
     "data": {
      "text/plain": [
       "posted\n",
       "2014.0    22111\n",
       "2015.0    18470\n",
       "2013.0     6792\n",
       "2012.0     1215\n",
       "2011.0      532\n",
       "2010.0       66\n",
       "Name: count, dtype: int64"
      ]
     },
     "execution_count": 24,
     "metadata": {},
     "output_type": "execute_result"
    }
   ],
   "source": [
    "fecha.dt.year.value_counts()"
   ]
  },
  {
   "cell_type": "code",
   "execution_count": 31,
   "metadata": {},
   "outputs": [
    {
     "data": {
      "text/plain": [
       "posted\n",
       "False    49186\n",
       "True     10147\n",
       "Name: count, dtype: int64"
      ]
     },
     "execution_count": 31,
     "metadata": {},
     "output_type": "execute_result"
    }
   ],
   "source": [
    "fecha.isnull().value_counts()"
   ]
  },
  {
   "cell_type": "code",
   "execution_count": 11,
   "metadata": {},
   "outputs": [],
   "source": [
    "reviews_clean['posted'] =fecha # Le asigno al df de reviews los valores limpios"
   ]
  },
  {
   "cell_type": "markdown",
   "metadata": {},
   "source": [
    "**Elimino las filas donde no tenemos fecha (aproximadamente 10.000 filas). Ya que no nos van a servir para las funciones solicitadas**"
   ]
  },
  {
   "cell_type": "code",
   "execution_count": 12,
   "metadata": {},
   "outputs": [
    {
     "data": {
      "text/plain": [
       "(59333, 9)"
      ]
     },
     "execution_count": 12,
     "metadata": {},
     "output_type": "execute_result"
    }
   ],
   "source": [
    "reviews_clean.shape"
   ]
  },
  {
   "cell_type": "code",
   "execution_count": 13,
   "metadata": {},
   "outputs": [
    {
     "data": {
      "text/plain": [
       "(49186, 9)"
      ]
     },
     "execution_count": 13,
     "metadata": {},
     "output_type": "execute_result"
    }
   ],
   "source": [
    "reviews_clean.dropna(subset=['posted'], inplace=True)\n",
    "reviews_clean.shape"
   ]
  },
  {
   "cell_type": "code",
   "execution_count": 62,
   "metadata": {},
   "outputs": [],
   "source": [
    "reviews_clean.drop(columns= ['user_url', 'last_edited'], inplace=True)"
   ]
  },
  {
   "cell_type": "code",
   "execution_count": 63,
   "metadata": {},
   "outputs": [
    {
     "data": {
      "text/html": [
       "<div>\n",
       "<style scoped>\n",
       "    .dataframe tbody tr th:only-of-type {\n",
       "        vertical-align: middle;\n",
       "    }\n",
       "\n",
       "    .dataframe tbody tr th {\n",
       "        vertical-align: top;\n",
       "    }\n",
       "\n",
       "    .dataframe thead th {\n",
       "        text-align: right;\n",
       "    }\n",
       "</style>\n",
       "<table border=\"1\" class=\"dataframe\">\n",
       "  <thead>\n",
       "    <tr style=\"text-align: right;\">\n",
       "      <th></th>\n",
       "      <th>user_id</th>\n",
       "      <th>funny</th>\n",
       "      <th>posted</th>\n",
       "      <th>item_id</th>\n",
       "      <th>helpful</th>\n",
       "      <th>recommend</th>\n",
       "      <th>review</th>\n",
       "    </tr>\n",
       "  </thead>\n",
       "  <tbody>\n",
       "    <tr>\n",
       "      <th>0</th>\n",
       "      <td>76561197970982479</td>\n",
       "      <td></td>\n",
       "      <td>2011-11-05</td>\n",
       "      <td>1250</td>\n",
       "      <td>No ratings yet</td>\n",
       "      <td>True</td>\n",
       "      <td>Simple yet with great replayability. In my opi...</td>\n",
       "    </tr>\n",
       "    <tr>\n",
       "      <th>1</th>\n",
       "      <td>76561197970982479</td>\n",
       "      <td></td>\n",
       "      <td>2011-07-15</td>\n",
       "      <td>22200</td>\n",
       "      <td>No ratings yet</td>\n",
       "      <td>True</td>\n",
       "      <td>It's unique and worth a playthrough.</td>\n",
       "    </tr>\n",
       "    <tr>\n",
       "      <th>2</th>\n",
       "      <td>76561197970982479</td>\n",
       "      <td></td>\n",
       "      <td>2011-04-21</td>\n",
       "      <td>43110</td>\n",
       "      <td>No ratings yet</td>\n",
       "      <td>True</td>\n",
       "      <td>Great atmosphere. The gunplay can be a bit chu...</td>\n",
       "    </tr>\n",
       "    <tr>\n",
       "      <th>3</th>\n",
       "      <td>js41637</td>\n",
       "      <td></td>\n",
       "      <td>2014-06-24</td>\n",
       "      <td>251610</td>\n",
       "      <td>15 of 20 people (75%) found this review helpful</td>\n",
       "      <td>True</td>\n",
       "      <td>I know what you think when you see this title ...</td>\n",
       "    </tr>\n",
       "    <tr>\n",
       "      <th>4</th>\n",
       "      <td>js41637</td>\n",
       "      <td></td>\n",
       "      <td>2013-09-08</td>\n",
       "      <td>227300</td>\n",
       "      <td>0 of 1 people (0%) found this review helpful</td>\n",
       "      <td>True</td>\n",
       "      <td>For a simple (it's actually not all that simpl...</td>\n",
       "    </tr>\n",
       "  </tbody>\n",
       "</table>\n",
       "</div>"
      ],
      "text/plain": [
       "             user_id funny     posted item_id  \\\n",
       "0  76561197970982479       2011-11-05    1250   \n",
       "1  76561197970982479       2011-07-15   22200   \n",
       "2  76561197970982479       2011-04-21   43110   \n",
       "3            js41637       2014-06-24  251610   \n",
       "4            js41637       2013-09-08  227300   \n",
       "\n",
       "                                           helpful recommend  \\\n",
       "0                                   No ratings yet      True   \n",
       "1                                   No ratings yet      True   \n",
       "2                                   No ratings yet      True   \n",
       "3  15 of 20 people (75%) found this review helpful      True   \n",
       "4     0 of 1 people (0%) found this review helpful      True   \n",
       "\n",
       "                                              review  \n",
       "0  Simple yet with great replayability. In my opi...  \n",
       "1               It's unique and worth a playthrough.  \n",
       "2  Great atmosphere. The gunplay can be a bit chu...  \n",
       "3  I know what you think when you see this title ...  \n",
       "4  For a simple (it's actually not all that simpl...  "
      ]
     },
     "execution_count": 63,
     "metadata": {},
     "output_type": "execute_result"
    }
   ],
   "source": [
    "reviews_clean.head()"
   ]
  },
  {
   "cell_type": "code",
   "execution_count": 70,
   "metadata": {},
   "outputs": [],
   "source": [
    "#exporto el df final como un csv\n",
    "reviews_clean.to_csv('reviews_final.csv', index=False)"
   ]
  },
  {
   "cell_type": "code",
   "execution_count": 14,
   "metadata": {},
   "outputs": [],
   "source": [
    "data = []\n",
    "with gzip.open('users_items.json.gz', 'rb') as f:\n",
    "    for line in f:\n",
    "        data.append(ast.literal_eval(line.decode('utf-8')))\n",
    "f.close()\n",
    "items = pd.DataFrame(data)"
   ]
  },
  {
   "cell_type": "code",
   "execution_count": 54,
   "metadata": {},
   "outputs": [
    {
     "data": {
      "text/html": [
       "<div>\n",
       "<style scoped>\n",
       "    .dataframe tbody tr th:only-of-type {\n",
       "        vertical-align: middle;\n",
       "    }\n",
       "\n",
       "    .dataframe tbody tr th {\n",
       "        vertical-align: top;\n",
       "    }\n",
       "\n",
       "    .dataframe thead th {\n",
       "        text-align: right;\n",
       "    }\n",
       "</style>\n",
       "<table border=\"1\" class=\"dataframe\">\n",
       "  <thead>\n",
       "    <tr style=\"text-align: right;\">\n",
       "      <th></th>\n",
       "      <th>user_id</th>\n",
       "      <th>items_count</th>\n",
       "      <th>steam_id</th>\n",
       "      <th>user_url</th>\n",
       "      <th>items</th>\n",
       "    </tr>\n",
       "  </thead>\n",
       "  <tbody>\n",
       "    <tr>\n",
       "      <th>0</th>\n",
       "      <td>76561197970982479</td>\n",
       "      <td>277</td>\n",
       "      <td>76561197970982479</td>\n",
       "      <td>http://steamcommunity.com/profiles/76561197970...</td>\n",
       "      <td>[{'item_id': '10', 'item_name': 'Counter-Strik...</td>\n",
       "    </tr>\n",
       "    <tr>\n",
       "      <th>1</th>\n",
       "      <td>js41637</td>\n",
       "      <td>888</td>\n",
       "      <td>76561198035864385</td>\n",
       "      <td>http://steamcommunity.com/id/js41637</td>\n",
       "      <td>[{'item_id': '10', 'item_name': 'Counter-Strik...</td>\n",
       "    </tr>\n",
       "    <tr>\n",
       "      <th>2</th>\n",
       "      <td>evcentric</td>\n",
       "      <td>137</td>\n",
       "      <td>76561198007712555</td>\n",
       "      <td>http://steamcommunity.com/id/evcentric</td>\n",
       "      <td>[{'item_id': '1200', 'item_name': 'Red Orchest...</td>\n",
       "    </tr>\n",
       "    <tr>\n",
       "      <th>3</th>\n",
       "      <td>Riot-Punch</td>\n",
       "      <td>328</td>\n",
       "      <td>76561197963445855</td>\n",
       "      <td>http://steamcommunity.com/id/Riot-Punch</td>\n",
       "      <td>[{'item_id': '10', 'item_name': 'Counter-Strik...</td>\n",
       "    </tr>\n",
       "    <tr>\n",
       "      <th>4</th>\n",
       "      <td>doctr</td>\n",
       "      <td>541</td>\n",
       "      <td>76561198002099482</td>\n",
       "      <td>http://steamcommunity.com/id/doctr</td>\n",
       "      <td>[{'item_id': '300', 'item_name': 'Day of Defea...</td>\n",
       "    </tr>\n",
       "  </tbody>\n",
       "</table>\n",
       "</div>"
      ],
      "text/plain": [
       "             user_id  items_count           steam_id  \\\n",
       "0  76561197970982479          277  76561197970982479   \n",
       "1            js41637          888  76561198035864385   \n",
       "2          evcentric          137  76561198007712555   \n",
       "3         Riot-Punch          328  76561197963445855   \n",
       "4              doctr          541  76561198002099482   \n",
       "\n",
       "                                            user_url  \\\n",
       "0  http://steamcommunity.com/profiles/76561197970...   \n",
       "1               http://steamcommunity.com/id/js41637   \n",
       "2             http://steamcommunity.com/id/evcentric   \n",
       "3            http://steamcommunity.com/id/Riot-Punch   \n",
       "4                 http://steamcommunity.com/id/doctr   \n",
       "\n",
       "                                               items  \n",
       "0  [{'item_id': '10', 'item_name': 'Counter-Strik...  \n",
       "1  [{'item_id': '10', 'item_name': 'Counter-Strik...  \n",
       "2  [{'item_id': '1200', 'item_name': 'Red Orchest...  \n",
       "3  [{'item_id': '10', 'item_name': 'Counter-Strik...  \n",
       "4  [{'item_id': '300', 'item_name': 'Day of Defea...  "
      ]
     },
     "execution_count": 54,
     "metadata": {},
     "output_type": "execute_result"
    }
   ],
   "source": [
    "items.head()"
   ]
  },
  {
   "cell_type": "code",
   "execution_count": 55,
   "metadata": {},
   "outputs": [
    {
     "data": {
      "text/plain": [
       "[{'item_id': '1200',\n",
       "  'item_name': 'Red Orchestra: Ostfront 41-45',\n",
       "  'playtime_forever': 923,\n",
       "  'playtime_2weeks': 0},\n",
       " {'item_id': '1230',\n",
       "  'item_name': 'Mare Nostrum',\n",
       "  'playtime_forever': 0,\n",
       "  'playtime_2weeks': 0},\n",
       " {'item_id': '1280',\n",
       "  'item_name': \"Darkest Hour: Europe '44-'45\",\n",
       "  'playtime_forever': 0,\n",
       "  'playtime_2weeks': 0},\n",
       " {'item_id': '1520',\n",
       "  'item_name': 'DEFCON',\n",
       "  'playtime_forever': 158,\n",
       "  'playtime_2weeks': 0},\n",
       " {'item_id': '220',\n",
       "  'item_name': 'Half-Life 2',\n",
       "  'playtime_forever': 1323,\n",
       "  'playtime_2weeks': 0},\n",
       " {'item_id': '320',\n",
       "  'item_name': 'Half-Life 2: Deathmatch',\n",
       "  'playtime_forever': 0,\n",
       "  'playtime_2weeks': 0},\n",
       " {'item_id': '340',\n",
       "  'item_name': 'Half-Life 2: Lost Coast',\n",
       "  'playtime_forever': 90,\n",
       "  'playtime_2weeks': 0},\n",
       " {'item_id': '360',\n",
       "  'item_name': 'Half-Life Deathmatch: Source',\n",
       "  'playtime_forever': 0,\n",
       "  'playtime_2weeks': 0},\n",
       " {'item_id': '380',\n",
       "  'item_name': 'Half-Life 2: Episode One',\n",
       "  'playtime_forever': 234,\n",
       "  'playtime_2weeks': 0},\n",
       " {'item_id': '400',\n",
       "  'item_name': 'Portal',\n",
       "  'playtime_forever': 113,\n",
       "  'playtime_2weeks': 0},\n",
       " {'item_id': '420',\n",
       "  'item_name': 'Half-Life 2: Episode Two',\n",
       "  'playtime_forever': 507,\n",
       "  'playtime_2weeks': 0},\n",
       " {'item_id': '13250',\n",
       "  'item_name': 'Unreal Gold',\n",
       "  'playtime_forever': 21,\n",
       "  'playtime_2weeks': 0},\n",
       " {'item_id': '10500',\n",
       "  'item_name': 'Empire: Total War',\n",
       "  'playtime_forever': 6038,\n",
       "  'playtime_2weeks': 0},\n",
       " {'item_id': '1250',\n",
       "  'item_name': 'Killing Floor',\n",
       "  'playtime_forever': 1646,\n",
       "  'playtime_2weeks': 0},\n",
       " {'item_id': '35420',\n",
       "  'item_name': 'Killing Floor Mod: Defence Alliance 2',\n",
       "  'playtime_forever': 13,\n",
       "  'playtime_2weeks': 0},\n",
       " {'item_id': '3720',\n",
       "  'item_name': 'Evil Genius',\n",
       "  'playtime_forever': 1393,\n",
       "  'playtime_2weeks': 0},\n",
       " {'item_id': '32360',\n",
       "  'item_name': 'The Secret of Monkey Island: Special Edition',\n",
       "  'playtime_forever': 8,\n",
       "  'playtime_2weeks': 0},\n",
       " {'item_id': '8980',\n",
       "  'item_name': 'Borderlands',\n",
       "  'playtime_forever': 9202,\n",
       "  'playtime_2weeks': 0},\n",
       " {'item_id': '550',\n",
       "  'item_name': 'Left 4 Dead 2',\n",
       "  'playtime_forever': 82,\n",
       "  'playtime_2weeks': 0},\n",
       " {'item_id': '223530',\n",
       "  'item_name': 'Left 4 Dead 2 Beta',\n",
       "  'playtime_forever': 0,\n",
       "  'playtime_2weeks': 0},\n",
       " {'item_id': '22380',\n",
       "  'item_name': 'Fallout: New Vegas',\n",
       "  'playtime_forever': 11311,\n",
       "  'playtime_2weeks': 0},\n",
       " {'item_id': '31280',\n",
       "  'item_name': 'Poker Night at the Inventory',\n",
       "  'playtime_forever': 1090,\n",
       "  'playtime_2weeks': 0},\n",
       " {'item_id': '67000',\n",
       "  'item_name': 'The Polynomial',\n",
       "  'playtime_forever': 4,\n",
       "  'playtime_2weeks': 0},\n",
       " {'item_id': '63200',\n",
       "  'item_name': 'Monday Night Combat',\n",
       "  'playtime_forever': 320,\n",
       "  'playtime_2weeks': 0},\n",
       " {'item_id': '620',\n",
       "  'item_name': 'Portal 2',\n",
       "  'playtime_forever': 1485,\n",
       "  'playtime_2weeks': 0},\n",
       " {'item_id': '47900',\n",
       "  'item_name': 'Dragon Age II',\n",
       "  'playtime_forever': 2301,\n",
       "  'playtime_2weeks': 0},\n",
       " {'item_id': '42910',\n",
       "  'item_name': 'Magicka',\n",
       "  'playtime_forever': 428,\n",
       "  'playtime_2weeks': 0},\n",
       " {'item_id': '28050',\n",
       "  'item_name': 'Deus Ex: Human Revolution',\n",
       "  'playtime_forever': 7689,\n",
       "  'playtime_2weeks': 0},\n",
       " {'item_id': '2200',\n",
       "  'item_name': 'Quake III Arena',\n",
       "  'playtime_forever': 0,\n",
       "  'playtime_2weeks': 0},\n",
       " {'item_id': '2210',\n",
       "  'item_name': 'Quake 4',\n",
       "  'playtime_forever': 284,\n",
       "  'playtime_2weeks': 0},\n",
       " {'item_id': '2270',\n",
       "  'item_name': 'Wolfenstein 3D',\n",
       "  'playtime_forever': 0,\n",
       "  'playtime_2weeks': 0},\n",
       " {'item_id': '2280',\n",
       "  'item_name': 'The Ultimate DOOM',\n",
       "  'playtime_forever': 87,\n",
       "  'playtime_2weeks': 0},\n",
       " {'item_id': '2290',\n",
       "  'item_name': 'Final DOOM',\n",
       "  'playtime_forever': 4,\n",
       "  'playtime_2weeks': 0},\n",
       " {'item_id': '2300',\n",
       "  'item_name': 'DOOM II: Hell on Earth',\n",
       "  'playtime_forever': 10,\n",
       "  'playtime_2weeks': 0},\n",
       " {'item_id': '2310',\n",
       "  'item_name': 'Quake',\n",
       "  'playtime_forever': 143,\n",
       "  'playtime_2weeks': 0},\n",
       " {'item_id': '2320',\n",
       "  'item_name': 'Quake II',\n",
       "  'playtime_forever': 48,\n",
       "  'playtime_2weeks': 0},\n",
       " {'item_id': '2330',\n",
       "  'item_name': 'Quake II: The Reckoning',\n",
       "  'playtime_forever': 0,\n",
       "  'playtime_2weeks': 0},\n",
       " {'item_id': '2340',\n",
       "  'item_name': 'Quake II: Ground Zero',\n",
       "  'playtime_forever': 0,\n",
       "  'playtime_2weeks': 0},\n",
       " {'item_id': '2350',\n",
       "  'item_name': 'Quake III: Team Arena',\n",
       "  'playtime_forever': 0,\n",
       "  'playtime_2weeks': 0},\n",
       " {'item_id': '2360',\n",
       "  'item_name': 'HeXen: Beyond Heretic',\n",
       "  'playtime_forever': 0,\n",
       "  'playtime_2weeks': 0},\n",
       " {'item_id': '2370',\n",
       "  'item_name': 'HeXen: Deathkings of the Dark Citadel',\n",
       "  'playtime_forever': 0,\n",
       "  'playtime_2weeks': 0},\n",
       " {'item_id': '2390',\n",
       "  'item_name': 'Heretic: Shadow of the Serpent Riders',\n",
       "  'playtime_forever': 0,\n",
       "  'playtime_2weeks': 0},\n",
       " {'item_id': '9000',\n",
       "  'item_name': 'Wolfenstein 3D: Spear of Destiny',\n",
       "  'playtime_forever': 0,\n",
       "  'playtime_2weeks': 0},\n",
       " {'item_id': '9010',\n",
       "  'item_name': 'Return to Castle Wolfenstein',\n",
       "  'playtime_forever': 616,\n",
       "  'playtime_2weeks': 0},\n",
       " {'item_id': '9030',\n",
       "  'item_name': 'Quake Mission Pack 2: Dissolution of Eternity',\n",
       "  'playtime_forever': 0,\n",
       "  'playtime_2weeks': 0},\n",
       " {'item_id': '9040',\n",
       "  'item_name': 'Quake Mission Pack 1: Scourge of Armagon',\n",
       "  'playtime_forever': 0,\n",
       "  'playtime_2weeks': 0},\n",
       " {'item_id': '9050',\n",
       "  'item_name': 'DOOM 3',\n",
       "  'playtime_forever': 32,\n",
       "  'playtime_2weeks': 0},\n",
       " {'item_id': '9060',\n",
       "  'item_name': 'HeXen II',\n",
       "  'playtime_forever': 0,\n",
       "  'playtime_2weeks': 0},\n",
       " {'item_id': '9070',\n",
       "  'item_name': 'DOOM 3: Resurrection of Evil',\n",
       "  'playtime_forever': 0,\n",
       "  'playtime_2weeks': 0},\n",
       " {'item_id': '9160',\n",
       "  'item_name': 'Master Levels for DOOM II',\n",
       "  'playtime_forever': 0,\n",
       "  'playtime_2weeks': 0},\n",
       " {'item_id': '9180',\n",
       "  'item_name': 'Commander Keen Complete Pack',\n",
       "  'playtime_forever': 218,\n",
       "  'playtime_2weeks': 0},\n",
       " {'item_id': '22310',\n",
       "  'item_name': 'Rogue Warrior',\n",
       "  'playtime_forever': 0,\n",
       "  'playtime_2weeks': 0},\n",
       " {'item_id': '22320',\n",
       "  'item_name': 'The Elder Scrolls III: Morrowind',\n",
       "  'playtime_forever': 0,\n",
       "  'playtime_2weeks': 0},\n",
       " {'item_id': '22330',\n",
       "  'item_name': 'The Elder Scrolls IV: Oblivion ',\n",
       "  'playtime_forever': 56,\n",
       "  'playtime_2weeks': 0},\n",
       " {'item_id': '22340',\n",
       "  'item_name': 'Call of Cthulhu: Dark Corners of the Earth',\n",
       "  'playtime_forever': 0,\n",
       "  'playtime_2weeks': 0},\n",
       " {'item_id': '22350',\n",
       "  'item_name': 'BRINK',\n",
       "  'playtime_forever': 933,\n",
       "  'playtime_2weeks': 0},\n",
       " {'item_id': '22370',\n",
       "  'item_name': 'Fallout 3 - Game of the Year Edition',\n",
       "  'playtime_forever': 0,\n",
       "  'playtime_2weeks': 0},\n",
       " {'item_id': '22450',\n",
       "  'item_name': \"Hunted: The Demon's Forge\",\n",
       "  'playtime_forever': 0,\n",
       "  'playtime_2weeks': 0},\n",
       " {'item_id': '107200',\n",
       "  'item_name': 'Space Pirates and Zombies',\n",
       "  'playtime_forever': 3225,\n",
       "  'playtime_2weeks': 0},\n",
       " {'item_id': '2820',\n",
       "  'item_name': 'X3: Terran Conflict',\n",
       "  'playtime_forever': 33,\n",
       "  'playtime_2weeks': 0},\n",
       " {'item_id': '201310',\n",
       "  'item_name': 'X3: Albion Prelude',\n",
       "  'playtime_forever': 5957,\n",
       "  'playtime_2weeks': 0},\n",
       " {'item_id': '49520',\n",
       "  'item_name': 'Borderlands 2',\n",
       "  'playtime_forever': 8106,\n",
       "  'playtime_2weeks': 0},\n",
       " {'item_id': '212680',\n",
       "  'item_name': 'FTL: Faster Than Light',\n",
       "  'playtime_forever': 4053,\n",
       "  'playtime_2weeks': 0},\n",
       " {'item_id': '205790',\n",
       "  'item_name': 'Dota 2 Test',\n",
       "  'playtime_forever': 0,\n",
       "  'playtime_2weeks': 0},\n",
       " {'item_id': '57690',\n",
       "  'item_name': 'Tropico 4',\n",
       "  'playtime_forever': 471,\n",
       "  'playtime_2weeks': 0},\n",
       " {'item_id': '212070',\n",
       "  'item_name': 'Star Conflict',\n",
       "  'playtime_forever': 1635,\n",
       "  'playtime_2weeks': 0},\n",
       " {'item_id': '218230',\n",
       "  'item_name': 'PlanetSide 2',\n",
       "  'playtime_forever': 5996,\n",
       "  'playtime_2weeks': 0},\n",
       " {'item_id': '230410',\n",
       "  'item_name': 'Warframe',\n",
       "  'playtime_forever': 1381,\n",
       "  'playtime_2weeks': 59},\n",
       " {'item_id': '3483',\n",
       "  'item_name': 'Peggle Extreme',\n",
       "  'playtime_forever': 36,\n",
       "  'playtime_2weeks': 0},\n",
       " {'item_id': '224500',\n",
       "  'item_name': 'Gnomoria',\n",
       "  'playtime_forever': 13618,\n",
       "  'playtime_2weeks': 0},\n",
       " {'item_id': '214730',\n",
       "  'item_name': 'Space Rangers HD: A War Apart',\n",
       "  'playtime_forever': 598,\n",
       "  'playtime_2weeks': 0},\n",
       " {'item_id': '233450',\n",
       "  'item_name': 'Prison Architect',\n",
       "  'playtime_forever': 43,\n",
       "  'playtime_2weeks': 0},\n",
       " {'item_id': '233720',\n",
       "  'item_name': 'Surgeon Simulator',\n",
       "  'playtime_forever': 14,\n",
       "  'playtime_2weeks': 0},\n",
       " {'item_id': '241600',\n",
       "  'item_name': 'Rogue Legacy',\n",
       "  'playtime_forever': 227,\n",
       "  'playtime_2weeks': 0},\n",
       " {'item_id': '238240',\n",
       "  'item_name': 'Edge of Space',\n",
       "  'playtime_forever': 515,\n",
       "  'playtime_2weeks': 0},\n",
       " {'item_id': '248390',\n",
       "  'item_name': 'Craft The World',\n",
       "  'playtime_forever': 80,\n",
       "  'playtime_2weeks': 0},\n",
       " {'item_id': '248820',\n",
       "  'item_name': 'Risk of Rain',\n",
       "  'playtime_forever': 2328,\n",
       "  'playtime_2weeks': 0},\n",
       " {'item_id': '239350',\n",
       "  'item_name': 'Spelunky',\n",
       "  'playtime_forever': 5,\n",
       "  'playtime_2weeks': 0},\n",
       " {'item_id': '2870',\n",
       "  'item_name': 'X Rebirth',\n",
       "  'playtime_forever': 143,\n",
       "  'playtime_2weeks': 0},\n",
       " {'item_id': '252110',\n",
       "  'item_name': 'Lovers in a Dangerous Spacetime',\n",
       "  'playtime_forever': 45,\n",
       "  'playtime_2weeks': 0},\n",
       " {'item_id': '254200',\n",
       "  'item_name': 'FortressCraft Evolved',\n",
       "  'playtime_forever': 4671,\n",
       "  'playtime_2weeks': 1},\n",
       " {'item_id': '226620',\n",
       "  'item_name': 'Desktop Dungeons',\n",
       "  'playtime_forever': 98,\n",
       "  'playtime_2weeks': 0},\n",
       " {'item_id': '259570',\n",
       "  'item_name': 'Eden Star :: Destroy - Build - Protect',\n",
       "  'playtime_forever': 158,\n",
       "  'playtime_2weeks': 0},\n",
       " {'item_id': '221910',\n",
       "  'item_name': 'The Stanley Parable',\n",
       "  'playtime_forever': 136,\n",
       "  'playtime_2weeks': 0},\n",
       " {'item_id': '263360',\n",
       "  'item_name': '3089 -- Futuristic Action RPG',\n",
       "  'playtime_forever': 447,\n",
       "  'playtime_2weeks': 0},\n",
       " {'item_id': '265950',\n",
       "  'item_name': 'Ether One',\n",
       "  'playtime_forever': 52,\n",
       "  'playtime_2weeks': 0},\n",
       " {'item_id': '391920',\n",
       "  'item_name': 'Ether One Redux',\n",
       "  'playtime_forever': 0,\n",
       "  'playtime_2weeks': 0},\n",
       " {'item_id': '211820',\n",
       "  'item_name': 'Starbound',\n",
       "  'playtime_forever': 67,\n",
       "  'playtime_2weeks': 67},\n",
       " {'item_id': '367540',\n",
       "  'item_name': 'Starbound - Unstable',\n",
       "  'playtime_forever': 0,\n",
       "  'playtime_2weeks': 0},\n",
       " {'item_id': '275850',\n",
       "  'item_name': \"No Man's Sky\",\n",
       "  'playtime_forever': 1219,\n",
       "  'playtime_2weeks': 141},\n",
       " {'item_id': '280220',\n",
       "  'item_name': 'Creeper World 3: Arc Eternal',\n",
       "  'playtime_forever': 5690,\n",
       "  'playtime_2weeks': 0},\n",
       " {'item_id': '282140',\n",
       "  'item_name': 'SOMA',\n",
       "  'playtime_forever': 85,\n",
       "  'playtime_2weeks': 0},\n",
       " {'item_id': '285310',\n",
       "  'item_name': 'RollerCoaster Tycoon: Deluxe',\n",
       "  'playtime_forever': 2,\n",
       "  'playtime_2weeks': 0},\n",
       " {'item_id': '292330',\n",
       "  'item_name': 'Starship Corporation',\n",
       "  'playtime_forever': 269,\n",
       "  'playtime_2weeks': 0},\n",
       " {'item_id': '226860',\n",
       "  'item_name': 'Galactic Civilizations III',\n",
       "  'playtime_forever': 295,\n",
       "  'playtime_2weeks': 0},\n",
       " {'item_id': '237930',\n",
       "  'item_name': 'Transistor',\n",
       "  'playtime_forever': 508,\n",
       "  'playtime_2weeks': 0},\n",
       " {'item_id': '38410',\n",
       "  'item_name': 'Fallout 2',\n",
       "  'playtime_forever': 226,\n",
       "  'playtime_2weeks': 0},\n",
       " {'item_id': '310380',\n",
       "  'item_name': 'Fractured Space',\n",
       "  'playtime_forever': 7,\n",
       "  'playtime_2weeks': 0},\n",
       " {'item_id': '9480',\n",
       "  'item_name': 'Saints Row 2',\n",
       "  'playtime_forever': 0,\n",
       "  'playtime_2weeks': 0},\n",
       " {'item_id': '55230',\n",
       "  'item_name': 'Saints Row: The Third',\n",
       "  'playtime_forever': 0,\n",
       "  'playtime_2weeks': 0},\n",
       " {'item_id': '206420',\n",
       "  'item_name': 'Saints Row IV',\n",
       "  'playtime_forever': 1293,\n",
       "  'playtime_2weeks': 0},\n",
       " {'item_id': '247080',\n",
       "  'item_name': 'Crypt of the NecroDancer',\n",
       "  'playtime_forever': 114,\n",
       "  'playtime_2weeks': 0},\n",
       " {'item_id': '315460',\n",
       "  'item_name': 'Dig or Die',\n",
       "  'playtime_forever': 207,\n",
       "  'playtime_2weeks': 0},\n",
       " {'item_id': '324260',\n",
       "  'item_name': 'VoidExpanse',\n",
       "  'playtime_forever': 425,\n",
       "  'playtime_2weeks': 0},\n",
       " {'item_id': '275670',\n",
       "  'item_name': 'Space Run',\n",
       "  'playtime_forever': 580,\n",
       "  'playtime_2weeks': 0},\n",
       " {'item_id': '328080',\n",
       "  'item_name': 'Retro-Pixel Castles',\n",
       "  'playtime_forever': 2,\n",
       "  'playtime_2weeks': 0},\n",
       " {'item_id': '730',\n",
       "  'item_name': 'Counter-Strike: Global Offensive',\n",
       "  'playtime_forever': 1569,\n",
       "  'playtime_2weeks': 0},\n",
       " {'item_id': '257510',\n",
       "  'item_name': 'The Talos Principle',\n",
       "  'playtime_forever': 1164,\n",
       "  'playtime_2weeks': 0},\n",
       " {'item_id': '319630',\n",
       "  'item_name': 'Life Is Strange™',\n",
       "  'playtime_forever': 1024,\n",
       "  'playtime_2weeks': 0},\n",
       " {'item_id': '340580',\n",
       "  'item_name': 'Armed with Wings: Rearmed',\n",
       "  'playtime_forever': 7,\n",
       "  'playtime_2weeks': 0},\n",
       " {'item_id': '344850',\n",
       "  'item_name': 'Big Pharma',\n",
       "  'playtime_forever': 332,\n",
       "  'playtime_2weeks': 0},\n",
       " {'item_id': '346010',\n",
       "  'item_name': 'Besiege',\n",
       "  'playtime_forever': 22,\n",
       "  'playtime_2weeks': 0},\n",
       " {'item_id': '245470',\n",
       "  'item_name': 'Democracy 3',\n",
       "  'playtime_forever': 460,\n",
       "  'playtime_2weeks': 0},\n",
       " {'item_id': '351510',\n",
       "  'item_name': 'Quiplash',\n",
       "  'playtime_forever': 0,\n",
       "  'playtime_2weeks': 0},\n",
       " {'item_id': '365300',\n",
       "  'item_name': 'Transmissions: Element 120',\n",
       "  'playtime_forever': 8,\n",
       "  'playtime_2weeks': 0},\n",
       " {'item_id': '365450',\n",
       "  'item_name': 'Hacknet',\n",
       "  'playtime_forever': 20,\n",
       "  'playtime_2weeks': 0},\n",
       " {'item_id': '298180',\n",
       "  'item_name': 'The Desolate Hope',\n",
       "  'playtime_forever': 17,\n",
       "  'playtime_2weeks': 0},\n",
       " {'item_id': '238370',\n",
       "  'item_name': 'Magicka 2',\n",
       "  'playtime_forever': 0,\n",
       "  'playtime_2weeks': 0},\n",
       " {'item_id': '397080',\n",
       "  'item_name': 'Magicka 2: Spell Balance Beta',\n",
       "  'playtime_forever': 0,\n",
       "  'playtime_2weeks': 0},\n",
       " {'item_id': '370360',\n",
       "  'item_name': 'TIS-100',\n",
       "  'playtime_forever': 403,\n",
       "  'playtime_2weeks': 0},\n",
       " {'item_id': '322330',\n",
       "  'item_name': \"Don't Starve Together\",\n",
       "  'playtime_forever': 138,\n",
       "  'playtime_2weeks': 0},\n",
       " {'item_id': '372190',\n",
       "  'item_name': 'Astro Lords: Oort Cloud',\n",
       "  'playtime_forever': 5,\n",
       "  'playtime_2weeks': 0},\n",
       " {'item_id': '377160',\n",
       "  'item_name': 'Fallout 4',\n",
       "  'playtime_forever': 8344,\n",
       "  'playtime_2weeks': 0},\n",
       " {'item_id': '383120',\n",
       "  'item_name': 'Empyrion - Galactic Survival',\n",
       "  'playtime_forever': 1803,\n",
       "  'playtime_2weeks': 0},\n",
       " {'item_id': '388880',\n",
       "  'item_name': 'Oxenfree',\n",
       "  'playtime_forever': 54,\n",
       "  'playtime_2weeks': 0},\n",
       " {'item_id': '234140',\n",
       "  'item_name': 'Mad Max',\n",
       "  'playtime_forever': 134,\n",
       "  'playtime_2weeks': 0},\n",
       " {'item_id': '391540',\n",
       "  'item_name': 'Undertale',\n",
       "  'playtime_forever': 30,\n",
       "  'playtime_2weeks': 0},\n",
       " {'item_id': '396890',\n",
       "  'item_name': 'Gridworld',\n",
       "  'playtime_forever': 5,\n",
       "  'playtime_2weeks': 0},\n",
       " {'item_id': '337000',\n",
       "  'item_name': 'Deus Ex: Mankind Divided™',\n",
       "  'playtime_forever': 65,\n",
       "  'playtime_2weeks': 0},\n",
       " {'item_id': '404410',\n",
       "  'item_name': 'Endless Sky',\n",
       "  'playtime_forever': 53,\n",
       "  'playtime_2weeks': 0},\n",
       " {'item_id': '416690',\n",
       "  'item_name': 'Oh...Sir!',\n",
       "  'playtime_forever': 0,\n",
       "  'playtime_2weeks': 0},\n",
       " {'item_id': '268500',\n",
       "  'item_name': 'XCOM 2',\n",
       "  'playtime_forever': 2107,\n",
       "  'playtime_2weeks': 0},\n",
       " {'item_id': '427520',\n",
       "  'item_name': 'Factorio',\n",
       "  'playtime_forever': 1658,\n",
       "  'playtime_2weeks': 0},\n",
       " {'item_id': '364360',\n",
       "  'item_name': 'Total War: WARHAMMER',\n",
       "  'playtime_forever': 29,\n",
       "  'playtime_2weeks': 0},\n",
       " {'item_id': '452780',\n",
       "  'item_name': 'RuneScape: Idle Adventures',\n",
       "  'playtime_forever': 2660,\n",
       "  'playtime_2weeks': 2472},\n",
       " {'item_id': '454060',\n",
       "  'item_name': 'Blueprint Tycoon',\n",
       "  'playtime_forever': 23,\n",
       "  'playtime_2weeks': 0},\n",
       " {'item_id': '466170',\n",
       "  'item_name': 'Idling to Rule the Gods',\n",
       "  'playtime_forever': 28545,\n",
       "  'playtime_2weeks': 1554}]"
      ]
     },
     "execution_count": 55,
     "metadata": {},
     "output_type": "execute_result"
    }
   ],
   "source": [
    "items['items'].iloc[2]"
   ]
  },
  {
   "cell_type": "code",
   "execution_count": 56,
   "metadata": {},
   "outputs": [
    {
     "data": {
      "text/plain": [
       "58.353629260559394"
      ]
     },
     "execution_count": 56,
     "metadata": {},
     "output_type": "execute_result"
    }
   ],
   "source": [
    "items.items_count.mean() #promedio de filas dentro la columna items"
   ]
  },
  {
   "cell_type": "code",
   "execution_count": 80,
   "metadata": {},
   "outputs": [
    {
     "data": {
      "text/plain": [
       "(88310, 5)"
      ]
     },
     "execution_count": 80,
     "metadata": {},
     "output_type": "execute_result"
    }
   ],
   "source": [
    "items.shape"
   ]
  },
  {
   "cell_type": "code",
   "execution_count": 57,
   "metadata": {},
   "outputs": [
    {
     "data": {
      "text/plain": [
       "5153209.0"
      ]
     },
     "execution_count": 57,
     "metadata": {},
     "output_type": "execute_result"
    }
   ],
   "source": [
    "items.items_count.mean() * items.shape[0] #como quedaría el dataframe si desanido esas filas"
   ]
  },
  {
   "cell_type": "markdown",
   "metadata": {},
   "source": [
    "**Me voy a quedar solo con los 1000 jugadores que más juegos jugaron y que hicieron reviews**"
   ]
  },
  {
   "cell_type": "code",
   "execution_count": 15,
   "metadata": {},
   "outputs": [],
   "source": [
    "items_filtrados = items[items['user_id'].isin(reviews_clean.user_id.unique())]"
   ]
  },
  {
   "cell_type": "code",
   "execution_count": 80,
   "metadata": {},
   "outputs": [
    {
     "data": {
      "text/plain": [
       "(23074, 5)"
      ]
     },
     "execution_count": 80,
     "metadata": {},
     "output_type": "execute_result"
    }
   ],
   "source": [
    "items_filtrados.shape"
   ]
  },
  {
   "cell_type": "code",
   "execution_count": 16,
   "metadata": {},
   "outputs": [],
   "source": [
    "items_final = items_filtrados.nlargest(1000, 'items_count')"
   ]
  },
  {
   "cell_type": "markdown",
   "metadata": {},
   "source": [
    "**Desanido la columna items. La lógica es que la que ya usamos para desanidar la columna reviews**"
   ]
  },
  {
   "cell_type": "code",
   "execution_count": 31,
   "metadata": {},
   "outputs": [
    {
     "data": {
      "text/plain": [
       "{'item_id': '300',\n",
       " 'item_name': 'Day of Defeat: Source',\n",
       " 'playtime_forever': 78,\n",
       " 'playtime_2weeks': 0}"
      ]
     },
     "execution_count": 31,
     "metadata": {},
     "output_type": "execute_result"
    }
   ],
   "source": [
    "items_final['items'].iloc[0]"
   ]
  },
  {
   "cell_type": "code",
   "execution_count": 42,
   "metadata": {},
   "outputs": [],
   "source": [
    "items_final = items_final.explode('items') # armo una fila por cada elemento dentro de la lista reviews\n",
    "items_final.index = range(len(items_final)) #reseteo el index\n",
    "items__desanidados = pd.json_normalize(items_final['items']) # armo un DF, con cada clave del diccionario dentro de items como una columna\n",
    "items__desanidados.drop(columns='playtime_2weeks', inplace=True) # elimino la columna playtime_2weeks que no me sirve para las funciones\n",
    "items_final = pd.concat([items_final.drop(columns= ['items', 'steam_id', 'items_count', 'user_url']), items__desanidados], axis=1) #concateno el df extendido  con el df con una columna por key de item"
   ]
  },
  {
   "cell_type": "markdown",
   "metadata": {},
   "source": [
    "**Me quedo solo con las filas donde las horas de juego no son 0**"
   ]
  },
  {
   "cell_type": "code",
   "execution_count": 54,
   "metadata": {},
   "outputs": [],
   "source": [
    "items_final_pulido =items_final[items_final['playtime_forever']!=0]"
   ]
  },
  {
   "cell_type": "code",
   "execution_count": 55,
   "metadata": {},
   "outputs": [
    {
     "data": {
      "text/html": [
       "<div>\n",
       "<style scoped>\n",
       "    .dataframe tbody tr th:only-of-type {\n",
       "        vertical-align: middle;\n",
       "    }\n",
       "\n",
       "    .dataframe tbody tr th {\n",
       "        vertical-align: top;\n",
       "    }\n",
       "\n",
       "    .dataframe thead th {\n",
       "        text-align: right;\n",
       "    }\n",
       "</style>\n",
       "<table border=\"1\" class=\"dataframe\">\n",
       "  <thead>\n",
       "    <tr style=\"text-align: right;\">\n",
       "      <th></th>\n",
       "      <th>user_id</th>\n",
       "      <th>item_id</th>\n",
       "      <th>item_name</th>\n",
       "      <th>playtime_forever</th>\n",
       "    </tr>\n",
       "  </thead>\n",
       "  <tbody>\n",
       "    <tr>\n",
       "      <th>0</th>\n",
       "      <td>phrostb</td>\n",
       "      <td>300</td>\n",
       "      <td>Day of Defeat: Source</td>\n",
       "      <td>78</td>\n",
       "    </tr>\n",
       "    <tr>\n",
       "      <th>13</th>\n",
       "      <td>phrostb</td>\n",
       "      <td>1900</td>\n",
       "      <td>Earth 2160</td>\n",
       "      <td>155</td>\n",
       "    </tr>\n",
       "    <tr>\n",
       "      <th>29</th>\n",
       "      <td>phrostb</td>\n",
       "      <td>3810</td>\n",
       "      <td>BloodRayne</td>\n",
       "      <td>404</td>\n",
       "    </tr>\n",
       "    <tr>\n",
       "      <th>30</th>\n",
       "      <td>phrostb</td>\n",
       "      <td>3820</td>\n",
       "      <td>BloodRayne 2</td>\n",
       "      <td>115</td>\n",
       "    </tr>\n",
       "    <tr>\n",
       "      <th>31</th>\n",
       "      <td>phrostb</td>\n",
       "      <td>3800</td>\n",
       "      <td>Advent Rising</td>\n",
       "      <td>165</td>\n",
       "    </tr>\n",
       "  </tbody>\n",
       "</table>\n",
       "</div>"
      ],
      "text/plain": [
       "    user_id item_id              item_name  playtime_forever\n",
       "0   phrostb     300  Day of Defeat: Source                78\n",
       "13  phrostb    1900             Earth 2160               155\n",
       "29  phrostb    3810             BloodRayne               404\n",
       "30  phrostb    3820           BloodRayne 2               115\n",
       "31  phrostb    3800          Advent Rising               165"
      ]
     },
     "execution_count": 55,
     "metadata": {},
     "output_type": "execute_result"
    }
   ],
   "source": [
    "items_final_pulido.head()"
   ]
  },
  {
   "cell_type": "code",
   "execution_count": 56,
   "metadata": {},
   "outputs": [],
   "source": [
    "items_final_pulido.to_csv('items_final_pulido.csv', index=False) #guardamos el df final en un csv para usar."
   ]
  }
 ],
 "metadata": {
  "kernelspec": {
   "display_name": "Python 3",
   "language": "python",
   "name": "python3"
  },
  "language_info": {
   "codemirror_mode": {
    "name": "ipython",
    "version": 3
   },
   "file_extension": ".py",
   "mimetype": "text/x-python",
   "name": "python",
   "nbconvert_exporter": "python",
   "pygments_lexer": "ipython3",
   "version": "3.12.0"
  }
 },
 "nbformat": 4,
 "nbformat_minor": 2
}
